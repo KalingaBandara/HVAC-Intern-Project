{
 "cells": [
  {
   "cell_type": "code",
   "execution_count": 1,
   "metadata": {},
   "outputs": [
    {
     "name": "stdout",
     "output_type": "stream",
     "text": [
      "Requirement already satisfied: tqdm in e:\\softwares\\python312\\lib\\site-packages (4.66.1)\n",
      "Requirement already satisfied: pandas in e:\\softwares\\python312\\lib\\site-packages (2.2.0)\n",
      "Requirement already satisfied: colorama in c:\\users\\asus pro\\appdata\\roaming\\python\\python312\\site-packages (from tqdm) (0.4.6)\n",
      "Requirement already satisfied: numpy<2,>=1.26.0 in e:\\softwares\\python312\\lib\\site-packages (from pandas) (1.26.3)\n",
      "Requirement already satisfied: python-dateutil>=2.8.2 in c:\\users\\asus pro\\appdata\\roaming\\python\\python312\\site-packages (from pandas) (2.8.2)\n",
      "Requirement already satisfied: pytz>=2020.1 in e:\\softwares\\python312\\lib\\site-packages (from pandas) (2023.4)\n",
      "Requirement already satisfied: tzdata>=2022.7 in e:\\softwares\\python312\\lib\\site-packages (from pandas) (2023.4)\n",
      "Requirement already satisfied: six>=1.5 in c:\\users\\asus pro\\appdata\\roaming\\python\\python312\\site-packages (from python-dateutil>=2.8.2->pandas) (1.16.0)\n",
      "Note: you may need to restart the kernel to use updated packages.\n"
     ]
    },
    {
     "name": "stderr",
     "output_type": "stream",
     "text": [
      "\n",
      "[notice] A new release of pip is available: 23.3.2 -> 24.0\n",
      "[notice] To update, run: python.exe -m pip install --upgrade pip\n"
     ]
    },
    {
     "name": "stdout",
     "output_type": "stream",
     "text": [
      "Looking in indexes: https://pypi.org/simple, https://test.pypi.org/simple/\n",
      "Collecting git+https://github.com/NTU-CCA-HVAC-OPTIM-a842a748/EnergyPlus-OOEP\n",
      "  Cloning https://github.com/NTU-CCA-HVAC-OPTIM-a842a748/EnergyPlus-OOEP to c:\\users\\asus pro\\appdata\\local\\temp\\pip-req-build-439l3p_e\n",
      "  Resolved https://github.com/NTU-CCA-HVAC-OPTIM-a842a748/EnergyPlus-OOEP to commit a1fa627618824e2606ed7ae7d94dfd55ce7ccd06\n",
      "  Installing build dependencies: started\n",
      "  Installing build dependencies: finished with status 'done'\n",
      "  Getting requirements to build wheel: started\n",
      "  Getting requirements to build wheel: finished with status 'done'\n",
      "  Installing backend dependencies: started\n",
      "  Installing backend dependencies: finished with status 'done'\n",
      "  Preparing metadata (pyproject.toml): started\n",
      "  Preparing metadata (pyproject.toml): finished with status 'done'\n",
      "Requirement already satisfied: energyplus-core in e:\\softwares\\python312\\lib\\site-packages (from energyplus-ooep==0.0.post1.dev10+ga1fa627) (0.1.0a0)\n",
      "Requirement already satisfied: packaging in c:\\users\\asus pro\\appdata\\roaming\\python\\python312\\site-packages (from energyplus-ooep==0.0.post1.dev10+ga1fa627) (23.2)\n",
      "Requirement already satisfied: pandas in e:\\softwares\\python312\\lib\\site-packages (from energyplus-ooep==0.0.post1.dev10+ga1fa627) (2.2.0)\n",
      "Requirement already satisfied: numpy<2,>=1.26.0 in e:\\softwares\\python312\\lib\\site-packages (from pandas->energyplus-ooep==0.0.post1.dev10+ga1fa627) (1.26.3)\n",
      "Requirement already satisfied: python-dateutil>=2.8.2 in c:\\users\\asus pro\\appdata\\roaming\\python\\python312\\site-packages (from pandas->energyplus-ooep==0.0.post1.dev10+ga1fa627) (2.8.2)\n",
      "Requirement already satisfied: pytz>=2020.1 in e:\\softwares\\python312\\lib\\site-packages (from pandas->energyplus-ooep==0.0.post1.dev10+ga1fa627) (2023.4)\n",
      "Requirement already satisfied: tzdata>=2022.7 in e:\\softwares\\python312\\lib\\site-packages (from pandas->energyplus-ooep==0.0.post1.dev10+ga1fa627) (2023.4)\n",
      "Requirement already satisfied: six>=1.5 in c:\\users\\asus pro\\appdata\\roaming\\python\\python312\\site-packages (from python-dateutil>=2.8.2->pandas->energyplus-ooep==0.0.post1.dev10+ga1fa627) (1.16.0)\n",
      "Note: you may need to restart the kernel to use updated packages.\n"
     ]
    },
    {
     "name": "stderr",
     "output_type": "stream",
     "text": [
      "  Running command git clone --filter=blob:none --quiet https://github.com/NTU-CCA-HVAC-OPTIM-a842a748/EnergyPlus-OOEP 'C:\\Users\\Asus Pro\\AppData\\Local\\Temp\\pip-req-build-439l3p_e'\n",
      "\n",
      "[notice] A new release of pip is available: 23.3.2 -> 24.0\n",
      "[notice] To update, run: python.exe -m pip install --upgrade pip\n"
     ]
    },
    {
     "name": "stdout",
     "output_type": "stream",
     "text": [
      "Collecting git+https://github.com/NTU-CCA-HVAC-OPTIM-a842a748/EnergyPlus-Datasets.git\n",
      "  Cloning https://github.com/NTU-CCA-HVAC-OPTIM-a842a748/EnergyPlus-Datasets.git to c:\\users\\asus pro\\appdata\\local\\temp\\pip-req-build-bumjx2k5\n",
      "  Resolved https://github.com/NTU-CCA-HVAC-OPTIM-a842a748/EnergyPlus-Datasets.git to commit 62b02ce49492fb063dd0181b078ab37cb7202d4e\n",
      "  Installing build dependencies: started\n",
      "  Installing build dependencies: finished with status 'done'\n",
      "  Getting requirements to build wheel: started\n",
      "  Getting requirements to build wheel: finished with status 'done'\n",
      "  Installing backend dependencies: started\n",
      "  Installing backend dependencies: finished with status 'done'\n",
      "  Preparing metadata (pyproject.toml): started\n",
      "  Preparing metadata (pyproject.toml): finished with status 'done'\n",
      "Note: you may need to restart the kernel to use updated packages.\n"
     ]
    },
    {
     "name": "stderr",
     "output_type": "stream",
     "text": [
      "  Running command git clone --filter=blob:none --quiet https://github.com/NTU-CCA-HVAC-OPTIM-a842a748/EnergyPlus-Datasets.git 'C:\\Users\\Asus Pro\\AppData\\Local\\Temp\\pip-req-build-bumjx2k5'\n",
      "  Running command git submodule update --init --recursive -q\n",
      "\n",
      "[notice] A new release of pip is available: 23.3.2 -> 24.0\n",
      "[notice] To update, run: python.exe -m pip install --upgrade pip\n"
     ]
    }
   ],
   "source": [
    "%pip install tqdm pandas\n",
    "%pip install --extra-index-url https://test.pypi.org/simple/ git+https://github.com/NTU-CCA-HVAC-OPTIM-a842a748/EnergyPlus-OOEP\n",
    "# NOTE local repo\n",
    "#%pip install --extra-index-url https://test.pypi.org/simple/ ../../..\n",
    "%pip install git+https://github.com/NTU-CCA-HVAC-OPTIM-a842a748/EnergyPlus-Datasets.git"
   ]
  },
  {
   "cell_type": "code",
   "execution_count": 2,
   "metadata": {},
   "outputs": [],
   "source": [
    "import energyplus.ooep as ooep\n",
    "import energyplus.ooep.ems\n",
    "import energyplus.ooep.addons.progress"
   ]
  },
  {
   "cell_type": "code",
   "execution_count": 3,
   "metadata": {},
   "outputs": [
    {
     "data": {
      "text/plain": [
       "[]"
      ]
     },
     "execution_count": 3,
     "metadata": {},
     "output_type": "execute_result"
    }
   ],
   "source": [
    "from energyplus.dataset.basic import dataset as epds\n",
    "\n",
    "list(epds.models.glob('*.idf'))[:10]"
   ]
  },
  {
   "cell_type": "code",
   "execution_count": 4,
   "metadata": {},
   "outputs": [],
   "source": [
    "env = ooep.ems.Environment().__enter__()"
   ]
  },
  {
   "cell_type": "code",
   "execution_count": 5,
   "metadata": {},
   "outputs": [
    {
     "data": {
      "text/plain": [
       "0"
      ]
     },
     "execution_count": 5,
     "metadata": {},
     "output_type": "execute_result"
    }
   ],
   "source": [
    "env('--help', verbose=True)"
   ]
  },
  {
   "cell_type": "code",
   "execution_count": 6,
   "metadata": {},
   "outputs": [
    {
     "data": {
      "text/plain": [
       "0"
      ]
     },
     "execution_count": 6,
     "metadata": {},
     "output_type": "execute_result"
    }
   ],
   "source": [
    "env = env.__enter__()\n",
    "\n",
    "env(\n",
    "    # TODO\n",
    "    '--design-day',\n",
    "    '--output-directory', 'build/demo-eplus',\n",
    "    '--weather', f'./USA_FL_Tampa.Intl.AP.722110_TMY3.epw',\n",
    "    f'./test3.idf',\n",
    "    verbose=True\n",
    ")"
   ]
  },
  {
   "cell_type": "code",
   "execution_count": 7,
   "metadata": {},
   "outputs": [
    {
     "data": {
      "text/html": [
       "<div>\n",
       "<style scoped>\n",
       "    .dataframe tbody tr th:only-of-type {\n",
       "        vertical-align: middle;\n",
       "    }\n",
       "\n",
       "    .dataframe tbody tr th {\n",
       "        vertical-align: top;\n",
       "    }\n",
       "\n",
       "    .dataframe thead th {\n",
       "        text-align: right;\n",
       "    }\n",
       "</style>\n",
       "<table border=\"1\" class=\"dataframe\">\n",
       "  <thead>\n",
       "    <tr style=\"text-align: right;\">\n",
       "      <th></th>\n",
       "      <th>variable_name</th>\n",
       "      <th>variable_key</th>\n",
       "    </tr>\n",
       "  </thead>\n",
       "  <tbody>\n",
       "    <tr>\n",
       "      <th>0</th>\n",
       "      <td>Site Outdoor Air Drybulb Temperature</td>\n",
       "      <td>ENVIRONMENT</td>\n",
       "    </tr>\n",
       "    <tr>\n",
       "      <th>1</th>\n",
       "      <td>Site Outdoor Air Drybulb Temperature</td>\n",
       "      <td>ENVIRONMENT</td>\n",
       "    </tr>\n",
       "    <tr>\n",
       "      <th>2</th>\n",
       "      <td>Site Outdoor Air Drybulb Temperature</td>\n",
       "      <td>ENVIRONMENT</td>\n",
       "    </tr>\n",
       "    <tr>\n",
       "      <th>3</th>\n",
       "      <td>Site Outdoor Air Drybulb Temperature</td>\n",
       "      <td>ENVIRONMENT</td>\n",
       "    </tr>\n",
       "    <tr>\n",
       "      <th>4</th>\n",
       "      <td>Site Outdoor Air Dewpoint Temperature</td>\n",
       "      <td>ENVIRONMENT</td>\n",
       "    </tr>\n",
       "    <tr>\n",
       "      <th>...</th>\n",
       "      <td>...</td>\n",
       "      <td>...</td>\n",
       "    </tr>\n",
       "    <tr>\n",
       "      <th>15569</th>\n",
       "      <td>Zone Mechanical Ventilation Air Changes per Hour</td>\n",
       "      <td>3FXFFCXCXDYLGHTNG:OFFICE</td>\n",
       "    </tr>\n",
       "    <tr>\n",
       "      <th>15570</th>\n",
       "      <td>Zone Mechanical Ventilation Air Changes per Hour</td>\n",
       "      <td>3FXOFFICEXAC1:OFFICE</td>\n",
       "    </tr>\n",
       "    <tr>\n",
       "      <th>15571</th>\n",
       "      <td>Zone Mechanical Ventilation Air Changes per Hour</td>\n",
       "      <td>3FXOFFICEXAC1:OFFICE</td>\n",
       "    </tr>\n",
       "    <tr>\n",
       "      <th>15572</th>\n",
       "      <td>Zone Mechanical Ventilation Air Changes per Hour</td>\n",
       "      <td>3FXOFFICEXAC1:OFFICE</td>\n",
       "    </tr>\n",
       "    <tr>\n",
       "      <th>15573</th>\n",
       "      <td>Zone Mechanical Ventilation Air Changes per Hour</td>\n",
       "      <td>3FXOFFICEXAC1:OFFICE</td>\n",
       "    </tr>\n",
       "  </tbody>\n",
       "</table>\n",
       "<p>15574 rows × 2 columns</p>\n",
       "</div>"
      ],
      "text/plain": [
       "                                          variable_name  \\\n",
       "0                  Site Outdoor Air Drybulb Temperature   \n",
       "1                  Site Outdoor Air Drybulb Temperature   \n",
       "2                  Site Outdoor Air Drybulb Temperature   \n",
       "3                  Site Outdoor Air Drybulb Temperature   \n",
       "4                 Site Outdoor Air Dewpoint Temperature   \n",
       "...                                                 ...   \n",
       "15569  Zone Mechanical Ventilation Air Changes per Hour   \n",
       "15570  Zone Mechanical Ventilation Air Changes per Hour   \n",
       "15571  Zone Mechanical Ventilation Air Changes per Hour   \n",
       "15572  Zone Mechanical Ventilation Air Changes per Hour   \n",
       "15573  Zone Mechanical Ventilation Air Changes per Hour   \n",
       "\n",
       "                   variable_key  \n",
       "0                   ENVIRONMENT  \n",
       "1                   ENVIRONMENT  \n",
       "2                   ENVIRONMENT  \n",
       "3                   ENVIRONMENT  \n",
       "4                   ENVIRONMENT  \n",
       "...                         ...  \n",
       "15569  3FXFFCXCXDYLGHTNG:OFFICE  \n",
       "15570      3FXOFFICEXAC1:OFFICE  \n",
       "15571      3FXOFFICEXAC1:OFFICE  \n",
       "15572      3FXOFFICEXAC1:OFFICE  \n",
       "15573      3FXOFFICEXAC1:OFFICE  \n",
       "\n",
       "[15574 rows x 2 columns]"
      ]
     },
     "execution_count": 7,
     "metadata": {},
     "output_type": "execute_result"
    }
   ],
   "source": [
    "env.specs.variables"
   ]
  },
  {
   "cell_type": "code",
   "execution_count": 8,
   "metadata": {},
   "outputs": [
    {
     "data": {
      "text/plain": [
       "array(['ENVIRONMENT', 'BASEMENT2:B1XSERVERROOM GENERAL LIGHTING',\n",
       "       'BASEMENT2:B1XCORE GENERAL LIGHTING', ...,\n",
       "       'AIR LOOP 5 AHU HEAT RECOVERY RELIEF OUTLET',\n",
       "       'AIR LOOP 6 AHU HEAT RECOVERY RELIEF OUTLET', 'SITE'], dtype=object)"
      ]
     },
     "execution_count": 8,
     "metadata": {},
     "output_type": "execute_result"
    }
   ],
   "source": [
    "env.specs.variables['variable_key'].unique()"
   ]
  },
  {
   "cell_type": "code",
   "execution_count": 10,
   "metadata": {},
   "outputs": [
    {
     "ename": "SyntaxError",
     "evalue": "invalid syntax (2971856230.py, line 1)",
     "output_type": "error",
     "traceback": [
      "\u001b[1;36m  Cell \u001b[1;32mIn[10], line 1\u001b[1;36m\u001b[0m\n\u001b[1;33m    EnergyManagementSystem:Actuator,\u001b[0m\n\u001b[1;37m                                   ^\u001b[0m\n\u001b[1;31mSyntaxError\u001b[0m\u001b[1;31m:\u001b[0m invalid syntax\n"
     ]
    }
   ],
   "source": [
    "EnergyManagementSystem:Actuator,\n",
    "   Temperature_Setpoint_CHW_LOOP_SUPPLY_SIDE_OUTLET,\n",
    "   CHW LOOP SUPPLY SIDE OUTLET,\n",
    "   System Node Setpoint,\n",
    "   Temperature Setpoint;"
   ]
  },
  {
   "cell_type": "code",
   "execution_count": 15,
   "metadata": {},
   "outputs": [
    {
     "data": {
      "text/html": [
       "<div>\n",
       "<style scoped>\n",
       "    .dataframe tbody tr th:only-of-type {\n",
       "        vertical-align: middle;\n",
       "    }\n",
       "\n",
       "    .dataframe tbody tr th {\n",
       "        vertical-align: top;\n",
       "    }\n",
       "\n",
       "    .dataframe thead th {\n",
       "        text-align: right;\n",
       "    }\n",
       "</style>\n",
       "<table border=\"1\" class=\"dataframe\">\n",
       "  <thead>\n",
       "    <tr style=\"text-align: right;\">\n",
       "      <th></th>\n",
       "      <th>variable_name</th>\n",
       "      <th>variable_key</th>\n",
       "    </tr>\n",
       "  </thead>\n",
       "  <tbody>\n",
       "    <tr>\n",
       "      <th>5986</th>\n",
       "      <td>Chiller Electricity Rate</td>\n",
       "      <td>CHILLER 1</td>\n",
       "    </tr>\n",
       "    <tr>\n",
       "      <th>5987</th>\n",
       "      <td>Chiller Electricity Rate</td>\n",
       "      <td>CHILLER 1</td>\n",
       "    </tr>\n",
       "    <tr>\n",
       "      <th>5988</th>\n",
       "      <td>Chiller Electricity Rate</td>\n",
       "      <td>CHILLER 1</td>\n",
       "    </tr>\n",
       "    <tr>\n",
       "      <th>5989</th>\n",
       "      <td>Chiller Electricity Rate</td>\n",
       "      <td>CHILLER 1</td>\n",
       "    </tr>\n",
       "    <tr>\n",
       "      <th>5990</th>\n",
       "      <td>Chiller Electricity Energy</td>\n",
       "      <td>CHILLER 1</td>\n",
       "    </tr>\n",
       "    <tr>\n",
       "      <th>5991</th>\n",
       "      <td>Chiller Evaporator Cooling Rate</td>\n",
       "      <td>CHILLER 1</td>\n",
       "    </tr>\n",
       "    <tr>\n",
       "      <th>5992</th>\n",
       "      <td>Chiller Evaporator Cooling Rate</td>\n",
       "      <td>CHILLER 1</td>\n",
       "    </tr>\n",
       "    <tr>\n",
       "      <th>5993</th>\n",
       "      <td>Chiller Evaporator Cooling Rate</td>\n",
       "      <td>CHILLER 1</td>\n",
       "    </tr>\n",
       "    <tr>\n",
       "      <th>5994</th>\n",
       "      <td>Chiller Evaporator Cooling Rate</td>\n",
       "      <td>CHILLER 1</td>\n",
       "    </tr>\n",
       "    <tr>\n",
       "      <th>5995</th>\n",
       "      <td>Chiller Evaporator Cooling Energy</td>\n",
       "      <td>CHILLER 1</td>\n",
       "    </tr>\n",
       "    <tr>\n",
       "      <th>5996</th>\n",
       "      <td>Chiller False Load Heat Transfer Rate</td>\n",
       "      <td>CHILLER 1</td>\n",
       "    </tr>\n",
       "    <tr>\n",
       "      <th>5997</th>\n",
       "      <td>Chiller False Load Heat Transfer Rate</td>\n",
       "      <td>CHILLER 1</td>\n",
       "    </tr>\n",
       "    <tr>\n",
       "      <th>5998</th>\n",
       "      <td>Chiller False Load Heat Transfer Rate</td>\n",
       "      <td>CHILLER 1</td>\n",
       "    </tr>\n",
       "    <tr>\n",
       "      <th>5999</th>\n",
       "      <td>Chiller False Load Heat Transfer Rate</td>\n",
       "      <td>CHILLER 1</td>\n",
       "    </tr>\n",
       "    <tr>\n",
       "      <th>6000</th>\n",
       "      <td>Chiller Condenser Heat Transfer Energy</td>\n",
       "      <td>CHILLER 1</td>\n",
       "    </tr>\n",
       "    <tr>\n",
       "      <th>9295</th>\n",
       "      <td>System Node Temperature</td>\n",
       "      <td>CHILLER 1 CHW INLET NODE</td>\n",
       "    </tr>\n",
       "    <tr>\n",
       "      <th>9296</th>\n",
       "      <td>System Node Temperature</td>\n",
       "      <td>CHILLER 1 CHW INLET NODE</td>\n",
       "    </tr>\n",
       "    <tr>\n",
       "      <th>9297</th>\n",
       "      <td>System Node Temperature</td>\n",
       "      <td>CHILLER 1 CHW INLET NODE</td>\n",
       "    </tr>\n",
       "    <tr>\n",
       "      <th>9298</th>\n",
       "      <td>System Node Temperature</td>\n",
       "      <td>CHILLER 1 CHW INLET NODE</td>\n",
       "    </tr>\n",
       "    <tr>\n",
       "      <th>9299</th>\n",
       "      <td>System Node Mass Flow Rate</td>\n",
       "      <td>CHILLER 1 CHW INLET NODE</td>\n",
       "    </tr>\n",
       "    <tr>\n",
       "      <th>9300</th>\n",
       "      <td>System Node Mass Flow Rate</td>\n",
       "      <td>CHILLER 1 CHW INLET NODE</td>\n",
       "    </tr>\n",
       "    <tr>\n",
       "      <th>9301</th>\n",
       "      <td>System Node Mass Flow Rate</td>\n",
       "      <td>CHILLER 1 CHW INLET NODE</td>\n",
       "    </tr>\n",
       "    <tr>\n",
       "      <th>9302</th>\n",
       "      <td>System Node Mass Flow Rate</td>\n",
       "      <td>CHILLER 1 CHW INLET NODE</td>\n",
       "    </tr>\n",
       "    <tr>\n",
       "      <th>9303</th>\n",
       "      <td>System Node Temperature</td>\n",
       "      <td>CHILLER 1 CHW OUTLET NODE</td>\n",
       "    </tr>\n",
       "    <tr>\n",
       "      <th>9304</th>\n",
       "      <td>System Node Temperature</td>\n",
       "      <td>CHILLER 1 CHW OUTLET NODE</td>\n",
       "    </tr>\n",
       "    <tr>\n",
       "      <th>9305</th>\n",
       "      <td>System Node Temperature</td>\n",
       "      <td>CHILLER 1 CHW OUTLET NODE</td>\n",
       "    </tr>\n",
       "    <tr>\n",
       "      <th>9306</th>\n",
       "      <td>System Node Temperature</td>\n",
       "      <td>CHILLER 1 CHW OUTLET NODE</td>\n",
       "    </tr>\n",
       "    <tr>\n",
       "      <th>9307</th>\n",
       "      <td>System Node Mass Flow Rate</td>\n",
       "      <td>CHILLER 1 CHW OUTLET NODE</td>\n",
       "    </tr>\n",
       "    <tr>\n",
       "      <th>9308</th>\n",
       "      <td>System Node Mass Flow Rate</td>\n",
       "      <td>CHILLER 1 CHW OUTLET NODE</td>\n",
       "    </tr>\n",
       "    <tr>\n",
       "      <th>9309</th>\n",
       "      <td>System Node Mass Flow Rate</td>\n",
       "      <td>CHILLER 1 CHW OUTLET NODE</td>\n",
       "    </tr>\n",
       "    <tr>\n",
       "      <th>9310</th>\n",
       "      <td>System Node Mass Flow Rate</td>\n",
       "      <td>CHILLER 1 CHW OUTLET NODE</td>\n",
       "    </tr>\n",
       "    <tr>\n",
       "      <th>9383</th>\n",
       "      <td>System Node Temperature</td>\n",
       "      <td>CHILLER 1 CONDENSER INLET NODE</td>\n",
       "    </tr>\n",
       "    <tr>\n",
       "      <th>9384</th>\n",
       "      <td>System Node Temperature</td>\n",
       "      <td>CHILLER 1 CONDENSER INLET NODE</td>\n",
       "    </tr>\n",
       "    <tr>\n",
       "      <th>9385</th>\n",
       "      <td>System Node Temperature</td>\n",
       "      <td>CHILLER 1 CONDENSER INLET NODE</td>\n",
       "    </tr>\n",
       "    <tr>\n",
       "      <th>9386</th>\n",
       "      <td>System Node Temperature</td>\n",
       "      <td>CHILLER 1 CONDENSER INLET NODE</td>\n",
       "    </tr>\n",
       "    <tr>\n",
       "      <th>9387</th>\n",
       "      <td>System Node Mass Flow Rate</td>\n",
       "      <td>CHILLER 1 CONDENSER INLET NODE</td>\n",
       "    </tr>\n",
       "    <tr>\n",
       "      <th>9388</th>\n",
       "      <td>System Node Mass Flow Rate</td>\n",
       "      <td>CHILLER 1 CONDENSER INLET NODE</td>\n",
       "    </tr>\n",
       "    <tr>\n",
       "      <th>9389</th>\n",
       "      <td>System Node Mass Flow Rate</td>\n",
       "      <td>CHILLER 1 CONDENSER INLET NODE</td>\n",
       "    </tr>\n",
       "    <tr>\n",
       "      <th>9390</th>\n",
       "      <td>System Node Mass Flow Rate</td>\n",
       "      <td>CHILLER 1 CONDENSER INLET NODE</td>\n",
       "    </tr>\n",
       "    <tr>\n",
       "      <th>9391</th>\n",
       "      <td>System Node Temperature</td>\n",
       "      <td>CHILLER 1 CONDENSER OUTLET NODE</td>\n",
       "    </tr>\n",
       "    <tr>\n",
       "      <th>9392</th>\n",
       "      <td>System Node Temperature</td>\n",
       "      <td>CHILLER 1 CONDENSER OUTLET NODE</td>\n",
       "    </tr>\n",
       "    <tr>\n",
       "      <th>9393</th>\n",
       "      <td>System Node Temperature</td>\n",
       "      <td>CHILLER 1 CONDENSER OUTLET NODE</td>\n",
       "    </tr>\n",
       "    <tr>\n",
       "      <th>9394</th>\n",
       "      <td>System Node Temperature</td>\n",
       "      <td>CHILLER 1 CONDENSER OUTLET NODE</td>\n",
       "    </tr>\n",
       "    <tr>\n",
       "      <th>9395</th>\n",
       "      <td>System Node Mass Flow Rate</td>\n",
       "      <td>CHILLER 1 CONDENSER OUTLET NODE</td>\n",
       "    </tr>\n",
       "    <tr>\n",
       "      <th>9396</th>\n",
       "      <td>System Node Mass Flow Rate</td>\n",
       "      <td>CHILLER 1 CONDENSER OUTLET NODE</td>\n",
       "    </tr>\n",
       "    <tr>\n",
       "      <th>9397</th>\n",
       "      <td>System Node Mass Flow Rate</td>\n",
       "      <td>CHILLER 1 CONDENSER OUTLET NODE</td>\n",
       "    </tr>\n",
       "    <tr>\n",
       "      <th>9398</th>\n",
       "      <td>System Node Mass Flow Rate</td>\n",
       "      <td>CHILLER 1 CONDENSER OUTLET NODE</td>\n",
       "    </tr>\n",
       "  </tbody>\n",
       "</table>\n",
       "</div>"
      ],
      "text/plain": [
       "                               variable_name                     variable_key\n",
       "5986                Chiller Electricity Rate                        CHILLER 1\n",
       "5987                Chiller Electricity Rate                        CHILLER 1\n",
       "5988                Chiller Electricity Rate                        CHILLER 1\n",
       "5989                Chiller Electricity Rate                        CHILLER 1\n",
       "5990              Chiller Electricity Energy                        CHILLER 1\n",
       "5991         Chiller Evaporator Cooling Rate                        CHILLER 1\n",
       "5992         Chiller Evaporator Cooling Rate                        CHILLER 1\n",
       "5993         Chiller Evaporator Cooling Rate                        CHILLER 1\n",
       "5994         Chiller Evaporator Cooling Rate                        CHILLER 1\n",
       "5995       Chiller Evaporator Cooling Energy                        CHILLER 1\n",
       "5996   Chiller False Load Heat Transfer Rate                        CHILLER 1\n",
       "5997   Chiller False Load Heat Transfer Rate                        CHILLER 1\n",
       "5998   Chiller False Load Heat Transfer Rate                        CHILLER 1\n",
       "5999   Chiller False Load Heat Transfer Rate                        CHILLER 1\n",
       "6000  Chiller Condenser Heat Transfer Energy                        CHILLER 1\n",
       "9295                 System Node Temperature         CHILLER 1 CHW INLET NODE\n",
       "9296                 System Node Temperature         CHILLER 1 CHW INLET NODE\n",
       "9297                 System Node Temperature         CHILLER 1 CHW INLET NODE\n",
       "9298                 System Node Temperature         CHILLER 1 CHW INLET NODE\n",
       "9299              System Node Mass Flow Rate         CHILLER 1 CHW INLET NODE\n",
       "9300              System Node Mass Flow Rate         CHILLER 1 CHW INLET NODE\n",
       "9301              System Node Mass Flow Rate         CHILLER 1 CHW INLET NODE\n",
       "9302              System Node Mass Flow Rate         CHILLER 1 CHW INLET NODE\n",
       "9303                 System Node Temperature        CHILLER 1 CHW OUTLET NODE\n",
       "9304                 System Node Temperature        CHILLER 1 CHW OUTLET NODE\n",
       "9305                 System Node Temperature        CHILLER 1 CHW OUTLET NODE\n",
       "9306                 System Node Temperature        CHILLER 1 CHW OUTLET NODE\n",
       "9307              System Node Mass Flow Rate        CHILLER 1 CHW OUTLET NODE\n",
       "9308              System Node Mass Flow Rate        CHILLER 1 CHW OUTLET NODE\n",
       "9309              System Node Mass Flow Rate        CHILLER 1 CHW OUTLET NODE\n",
       "9310              System Node Mass Flow Rate        CHILLER 1 CHW OUTLET NODE\n",
       "9383                 System Node Temperature   CHILLER 1 CONDENSER INLET NODE\n",
       "9384                 System Node Temperature   CHILLER 1 CONDENSER INLET NODE\n",
       "9385                 System Node Temperature   CHILLER 1 CONDENSER INLET NODE\n",
       "9386                 System Node Temperature   CHILLER 1 CONDENSER INLET NODE\n",
       "9387              System Node Mass Flow Rate   CHILLER 1 CONDENSER INLET NODE\n",
       "9388              System Node Mass Flow Rate   CHILLER 1 CONDENSER INLET NODE\n",
       "9389              System Node Mass Flow Rate   CHILLER 1 CONDENSER INLET NODE\n",
       "9390              System Node Mass Flow Rate   CHILLER 1 CONDENSER INLET NODE\n",
       "9391                 System Node Temperature  CHILLER 1 CONDENSER OUTLET NODE\n",
       "9392                 System Node Temperature  CHILLER 1 CONDENSER OUTLET NODE\n",
       "9393                 System Node Temperature  CHILLER 1 CONDENSER OUTLET NODE\n",
       "9394                 System Node Temperature  CHILLER 1 CONDENSER OUTLET NODE\n",
       "9395              System Node Mass Flow Rate  CHILLER 1 CONDENSER OUTLET NODE\n",
       "9396              System Node Mass Flow Rate  CHILLER 1 CONDENSER OUTLET NODE\n",
       "9397              System Node Mass Flow Rate  CHILLER 1 CONDENSER OUTLET NODE\n",
       "9398              System Node Mass Flow Rate  CHILLER 1 CONDENSER OUTLET NODE"
      ]
     },
     "execution_count": 15,
     "metadata": {},
     "output_type": "execute_result"
    }
   ],
   "source": [
    "env.specs.variables[\n",
    "    env.specs.variables['variable_key']\n",
    "        .str\n",
    "        .contains('CHILLER 1')\n",
    "]"
   ]
  },
  {
   "cell_type": "code",
   "execution_count": 14,
   "metadata": {},
   "outputs": [
    {
     "data": {
      "text/html": [
       "<div>\n",
       "<style scoped>\n",
       "    .dataframe tbody tr th:only-of-type {\n",
       "        vertical-align: middle;\n",
       "    }\n",
       "\n",
       "    .dataframe tbody tr th {\n",
       "        vertical-align: top;\n",
       "    }\n",
       "\n",
       "    .dataframe thead th {\n",
       "        text-align: right;\n",
       "    }\n",
       "</style>\n",
       "<table border=\"1\" class=\"dataframe\">\n",
       "  <thead>\n",
       "    <tr style=\"text-align: right;\">\n",
       "      <th></th>\n",
       "      <th>component_type</th>\n",
       "      <th>control_type</th>\n",
       "      <th>actuator_key</th>\n",
       "    </tr>\n",
       "  </thead>\n",
       "  <tbody>\n",
       "  </tbody>\n",
       "</table>\n",
       "</div>"
      ],
      "text/plain": [
       "Empty DataFrame\n",
       "Columns: [component_type, control_type, actuator_key]\n",
       "Index: []"
      ]
     },
     "execution_count": 14,
     "metadata": {},
     "output_type": "execute_result"
    }
   ],
   "source": [
    "env.specs.actuators[\n",
    "    env.specs.actuators['actuator_key']\n",
    "        .str\n",
    "        .contains('COOLSYS1 CHILLER1 WATER INLET NODE')\n",
    "]"
   ]
  },
  {
   "cell_type": "code",
   "execution_count": 8,
   "metadata": {},
   "outputs": [
    {
     "name": "stdout",
     "output_type": "stream",
     "text": [
      "T_chws_set_ref Value: 6.0\n"
     ]
    }
   ],
   "source": [
    "T_chws_set_ref = env.actuator(dict(\n",
    "    component_type='System Node Setpoint',\n",
    "    control_type='Temperature Setpoint',\n",
    "    actuator_key='CHW LOOP SUPPLY SIDE OUTLET'\n",
    "))\n",
    "\n",
    "print(f'T_chws_set_ref Value: {T_chws_set_ref.value}')"
   ]
  },
  {
   "cell_type": "code",
   "execution_count": 10,
   "metadata": {},
   "outputs": [
    {
     "name": "stdout",
     "output_type": "stream",
     "text": [
      "T_chws_set_ref_min Value: -999.0\n"
     ]
    }
   ],
   "source": [
    "T_chws_set_ref_min = env.actuator(dict(\n",
    "    component_type='System Node Setpoint',\n",
    "    control_type='Temperature Minimum Setpoint',\n",
    "    actuator_key='CHW LOOP SUPPLY SIDE OUTLET'\n",
    "))\n",
    "\n",
    "print(f'T_chws_set_ref_min Value: {T_chws_set_ref_min.value}')"
   ]
  },
  {
   "cell_type": "code",
   "execution_count": 11,
   "metadata": {},
   "outputs": [
    {
     "name": "stdout",
     "output_type": "stream",
     "text": [
      "T_outdoor Value: 23.1\n"
     ]
    }
   ],
   "source": [
    "T_outdoor = env.variable(dict(\n",
    "    variable_name='Site Outdoor Air Drybulb Temperature',\n",
    "    variable_key='ENVIRONMENT'\n",
    "))\n",
    "\n",
    "print(f'T_outdoor Value: {T_outdoor.value}')"
   ]
  },
  {
   "cell_type": "code",
   "execution_count": 12,
   "metadata": {},
   "outputs": [
    {
     "name": "stdout",
     "output_type": "stream",
     "text": [
      "P_chiller1 Value: 0.0\n"
     ]
    }
   ],
   "source": [
    "P_chiller1 = env.variable(dict(\n",
    "    variable_name='Chiller Electricity Rate',\n",
    "    variable_key='CHILLER'\n",
    "))\n",
    "\n",
    "print(f'P_chiller1 Value: {P_chiller1.value}')"
   ]
  },
  {
   "cell_type": "code",
   "execution_count": 13,
   "metadata": {},
   "outputs": [
    {
     "name": "stdout",
     "output_type": "stream",
     "text": [
      "P_chiller1 Value: 0.0\n"
     ]
    }
   ],
   "source": [
    "P_chiller2 = env.variable(dict(\n",
    "    variable_name='Chiller Electricity Rate',\n",
    "    variable_key='CHILLER 2'\n",
    "))\n",
    "\n",
    "print(f'P_chiller1 Value: {P_chiller2.value}')"
   ]
  },
  {
   "cell_type": "code",
   "execution_count": 14,
   "metadata": {},
   "outputs": [
    {
     "name": "stdout",
     "output_type": "stream",
     "text": [
      "T_chws_chiller1 Value: 6.0\n",
      "F_chw_chiller1 Value: 0.0\n"
     ]
    }
   ],
   "source": [
    "T_chws_chiller1 = env.variable(dict(\n",
    "    variable_name='System Node Temperature',\n",
    "    variable_key='CHILLER CHW OUTLET NODE'\n",
    "))\n",
    "\n",
    "print(f'T_chws_chiller1 Value: {T_chws_chiller1.value}')\n",
    "\n",
    "F_chw_chiller1 = env.variable(dict(\n",
    "    variable_name='System Node Mass Flow Rate',\n",
    "    variable_key='CCHW LOOP SUPPLY SIDE OUTLET'\n",
    "))\n",
    "\n",
    "print(f'F_chw_chiller1 Value: {F_chw_chiller1.value}')\n",
    "\n"
   ]
  },
  {
   "cell_type": "code",
   "execution_count": 16,
   "metadata": {},
   "outputs": [
    {
     "name": "stdout",
     "output_type": "stream",
     "text": [
      "T_chws_set_ref = -150.0\n",
      "P_chiller1 = 0.0\n",
      "T_chws_set_ref = 20.0\n",
      "P_chiller1 = 0.0\n",
      "T_chws_set_ref = 250.0\n",
      "P_chiller1 = 0.0\n",
      "T_chws_set_ref = 30.0\n",
      "P_chiller1 = 0.0\n"
     ]
    }
   ],
   "source": [
    "import time\n",
    "\n",
    "initial_setpoint = 6.0\n",
    "T_chws_set_ref.value = initial_setpoint\n",
    "\n",
    "\n",
    "setpoint_values = [-150.0, 20.0, 250.0, 30.0]\n",
    "\n",
    "\n",
    "for setpoint_value in setpoint_values:\n",
    "\n",
    "    T_chws_set_ref.value = setpoint_value\n",
    "\n",
    "    # Run the simulation\n",
    "    _ = env(\n",
    "        # TODO\n",
    "    '--design-day',\n",
    "    '--output-directory', 'build/demo-eplus',\n",
    "    '--weather', f'./USA_FL_Tampa.Intl.AP.722110_TMY3.epw',\n",
    "    f'./test3.idf',\n",
    "    verbose=True\n",
    "    )\n",
    "\n",
    "    print(f'T_chws_set_ref = {setpoint_value}')\n",
    "    print(f'P_chiller1 = {P_chiller1.value}')\n",
    "\n",
    "\n",
    "    time.sleep(5)"
   ]
  }
 ],
 "metadata": {
  "kernelspec": {
   "display_name": "Python 3",
   "language": "python",
   "name": "python3"
  },
  "language_info": {
   "codemirror_mode": {
    "name": "ipython",
    "version": 3
   },
   "file_extension": ".py",
   "mimetype": "text/x-python",
   "name": "python",
   "nbconvert_exporter": "python",
   "pygments_lexer": "ipython3",
   "version": "3.12.1"
  }
 },
 "nbformat": 4,
 "nbformat_minor": 2
}
