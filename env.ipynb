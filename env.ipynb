{
 "cells": [
  {
   "cell_type": "code",
   "execution_count": 17,
   "metadata": {},
   "outputs": [
    {
     "name": "stdout",
     "output_type": "stream",
     "text": [
      "Requirement already satisfied: tqdm in e:\\softwares\\python312\\lib\\site-packages (4.66.2)\n",
      "Requirement already satisfied: pandas in e:\\softwares\\python312\\lib\\site-packages (2.2.0)\n",
      "Requirement already satisfied: colorama in c:\\users\\asus pro\\appdata\\roaming\\python\\python312\\site-packages (from tqdm) (0.4.6)\n",
      "Requirement already satisfied: numpy<2,>=1.26.0 in e:\\softwares\\python312\\lib\\site-packages (from pandas) (1.26.4)\n",
      "Requirement already satisfied: python-dateutil>=2.8.2 in c:\\users\\asus pro\\appdata\\roaming\\python\\python312\\site-packages (from pandas) (2.8.2)\n",
      "Requirement already satisfied: pytz>=2020.1 in e:\\softwares\\python312\\lib\\site-packages (from pandas) (2024.1)\n",
      "Requirement already satisfied: tzdata>=2022.7 in e:\\softwares\\python312\\lib\\site-packages (from pandas) (2024.1)\n",
      "Requirement already satisfied: six>=1.5 in c:\\users\\asus pro\\appdata\\roaming\\python\\python312\\site-packages (from python-dateutil>=2.8.2->pandas) (1.16.0)\n",
      "Note: you may need to restart the kernel to use updated packages.\n",
      "Looking in indexes: https://pypi.org/simple, https://test.pypi.org/simple/\n",
      "Collecting git+https://github.com/NTU-CCA-HVAC-OPTIM-a842a748/EnergyPlus-OOEP\n",
      "  Cloning https://github.com/NTU-CCA-HVAC-OPTIM-a842a748/EnergyPlus-OOEP to c:\\users\\asus pro\\appdata\\local\\temp\\pip-req-build-jo141obb\n",
      "  Resolved https://github.com/NTU-CCA-HVAC-OPTIM-a842a748/EnergyPlus-OOEP to commit f1f441d093e394e6ce022872a0e0ccb375d84d13\n",
      "  Installing build dependencies: started\n",
      "  Installing build dependencies: finished with status 'done'\n",
      "  Getting requirements to build wheel: started\n",
      "  Getting requirements to build wheel: finished with status 'done'\n",
      "  Installing backend dependencies: started\n",
      "  Installing backend dependencies: finished with status 'done'\n",
      "  Preparing metadata (pyproject.toml): started\n",
      "  Preparing metadata (pyproject.toml): finished with status 'done'\n",
      "Requirement already satisfied: energyplus-core in e:\\softwares\\python312\\lib\\site-packages (from energyplus-ooep==0.0.post1.dev11+gf1f441d) (0.1.0a0)\n",
      "Requirement already satisfied: packaging in c:\\users\\asus pro\\appdata\\roaming\\python\\python312\\site-packages (from energyplus-ooep==0.0.post1.dev11+gf1f441d) (23.2)\n",
      "Requirement already satisfied: pandas in e:\\softwares\\python312\\lib\\site-packages (from energyplus-ooep==0.0.post1.dev11+gf1f441d) (2.2.0)\n",
      "Requirement already satisfied: numpy<2,>=1.26.0 in e:\\softwares\\python312\\lib\\site-packages (from pandas->energyplus-ooep==0.0.post1.dev11+gf1f441d) (1.26.4)\n",
      "Requirement already satisfied: python-dateutil>=2.8.2 in c:\\users\\asus pro\\appdata\\roaming\\python\\python312\\site-packages (from pandas->energyplus-ooep==0.0.post1.dev11+gf1f441d) (2.8.2)\n",
      "Requirement already satisfied: pytz>=2020.1 in e:\\softwares\\python312\\lib\\site-packages (from pandas->energyplus-ooep==0.0.post1.dev11+gf1f441d) (2024.1)\n",
      "Requirement already satisfied: tzdata>=2022.7 in e:\\softwares\\python312\\lib\\site-packages (from pandas->energyplus-ooep==0.0.post1.dev11+gf1f441d) (2024.1)\n",
      "Requirement already satisfied: six>=1.5 in c:\\users\\asus pro\\appdata\\roaming\\python\\python312\\site-packages (from python-dateutil>=2.8.2->pandas->energyplus-ooep==0.0.post1.dev11+gf1f441d) (1.16.0)\n",
      "Note: you may need to restart the kernel to use updated packages.\n"
     ]
    },
    {
     "name": "stderr",
     "output_type": "stream",
     "text": [
      "  Running command git clone --filter=blob:none --quiet https://github.com/NTU-CCA-HVAC-OPTIM-a842a748/EnergyPlus-OOEP 'C:\\Users\\Asus Pro\\AppData\\Local\\Temp\\pip-req-build-jo141obb'\n"
     ]
    },
    {
     "name": "stdout",
     "output_type": "stream",
     "text": [
      "Collecting git+https://github.com/NTU-CCA-HVAC-OPTIM-a842a748/EnergyPlus-Datasets.git\n",
      "  Cloning https://github.com/NTU-CCA-HVAC-OPTIM-a842a748/EnergyPlus-Datasets.git to c:\\users\\asus pro\\appdata\\local\\temp\\pip-req-build-73xkyryz\n",
      "  Resolved https://github.com/NTU-CCA-HVAC-OPTIM-a842a748/EnergyPlus-Datasets.git to commit 62b02ce49492fb063dd0181b078ab37cb7202d4e\n",
      "  Installing build dependencies: started\n",
      "  Installing build dependencies: finished with status 'done'\n",
      "  Getting requirements to build wheel: started\n",
      "  Getting requirements to build wheel: finished with status 'done'\n",
      "  Installing backend dependencies: started\n",
      "  Installing backend dependencies: finished with status 'done'\n",
      "  Preparing metadata (pyproject.toml): started\n",
      "  Preparing metadata (pyproject.toml): finished with status 'done'\n",
      "Note: you may need to restart the kernel to use updated packages.\n"
     ]
    },
    {
     "name": "stderr",
     "output_type": "stream",
     "text": [
      "  Running command git clone --filter=blob:none --quiet https://github.com/NTU-CCA-HVAC-OPTIM-a842a748/EnergyPlus-Datasets.git 'C:\\Users\\Asus Pro\\AppData\\Local\\Temp\\pip-req-build-73xkyryz'\n",
      "  Running command git submodule update --init --recursive -q\n"
     ]
    }
   ],
   "source": [
    "%pip install tqdm pandas\n",
    "%pip install --extra-index-url https://test.pypi.org/simple/ git+https://github.com/NTU-CCA-HVAC-OPTIM-a842a748/EnergyPlus-OOEP\n",
    "# NOTE local repo\n",
    "#%pip install --extra-index-url https://test.pypi.org/simple/ ../../..\n",
    "%pip install git+https://github.com/NTU-CCA-HVAC-OPTIM-a842a748/EnergyPlus-Datasets.git"
   ]
  },
  {
   "cell_type": "code",
   "execution_count": 1,
   "metadata": {},
   "outputs": [
    {
     "name": "stderr",
     "output_type": "stream",
     "text": [
      "e:\\Softwares\\Python312\\Lib\\site-packages\\tqdm\\auto.py:21: TqdmWarning: IProgress not found. Please update jupyter and ipywidgets. See https://ipywidgets.readthedocs.io/en/stable/user_install.html\n",
      "  from .autonotebook import tqdm as notebook_tqdm\n"
     ]
    }
   ],
   "source": [
    "import energyplus.ooep as ooep\n",
    "import energyplus.ooep.ems\n",
    "import energyplus.ooep.addons.progress\n",
    "from energyplus.dataset.basic import dataset as epds"
   ]
  },
  {
   "cell_type": "code",
   "execution_count": 3,
   "metadata": {},
   "outputs": [
    {
     "data": {
      "text/plain": [
       "0"
      ]
     },
     "execution_count": 3,
     "metadata": {},
     "output_type": "execute_result"
    }
   ],
   "source": [
    "env = ooep.ems.Environment().__enter__()\n",
    "env = env.__enter__()\n",
    "\n",
    "env(\n",
    "    # TODO\n",
    "    '--design-day',\n",
    "    '--output-directory', 'build1/demo-eplus',\n",
    "    '--weather', f'./USA_FL_Tampa.Intl.AP.722110_TMY3.epw',\n",
    "    f'./test9_timeStepReduced.idf',\n",
    "    verbose=True\n",
    ")"
   ]
  },
  {
   "cell_type": "code",
   "execution_count": 4,
   "metadata": {},
   "outputs": [
    {
     "data": {
      "text/html": [
       "<div>\n",
       "<style scoped>\n",
       "    .dataframe tbody tr th:only-of-type {\n",
       "        vertical-align: middle;\n",
       "    }\n",
       "\n",
       "    .dataframe tbody tr th {\n",
       "        vertical-align: top;\n",
       "    }\n",
       "\n",
       "    .dataframe thead th {\n",
       "        text-align: right;\n",
       "    }\n",
       "</style>\n",
       "<table border=\"1\" class=\"dataframe\">\n",
       "  <thead>\n",
       "    <tr style=\"text-align: right;\">\n",
       "      <th></th>\n",
       "      <th>variable_name</th>\n",
       "      <th>variable_key</th>\n",
       "    </tr>\n",
       "  </thead>\n",
       "  <tbody>\n",
       "    <tr>\n",
       "      <th>0</th>\n",
       "      <td>Site Outdoor Air Drybulb Temperature</td>\n",
       "      <td>ENVIRONMENT</td>\n",
       "    </tr>\n",
       "    <tr>\n",
       "      <th>1</th>\n",
       "      <td>Site Outdoor Air Drybulb Temperature</td>\n",
       "      <td>ENVIRONMENT</td>\n",
       "    </tr>\n",
       "    <tr>\n",
       "      <th>2</th>\n",
       "      <td>Site Outdoor Air Drybulb Temperature</td>\n",
       "      <td>ENVIRONMENT</td>\n",
       "    </tr>\n",
       "    <tr>\n",
       "      <th>3</th>\n",
       "      <td>Site Outdoor Air Drybulb Temperature</td>\n",
       "      <td>ENVIRONMENT</td>\n",
       "    </tr>\n",
       "    <tr>\n",
       "      <th>4</th>\n",
       "      <td>Site Outdoor Air Drybulb Temperature</td>\n",
       "      <td>ENVIRONMENT</td>\n",
       "    </tr>\n",
       "    <tr>\n",
       "      <th>...</th>\n",
       "      <td>...</td>\n",
       "      <td>...</td>\n",
       "    </tr>\n",
       "    <tr>\n",
       "      <th>20176</th>\n",
       "      <td>Zone Mechanical Ventilation Air Changes per Hour</td>\n",
       "      <td>3FXOFFICEXAC1:OFFICE</td>\n",
       "    </tr>\n",
       "    <tr>\n",
       "      <th>20177</th>\n",
       "      <td>Zone Mechanical Ventilation Air Changes per Hour</td>\n",
       "      <td>3FXOFFICEXAC1:OFFICE</td>\n",
       "    </tr>\n",
       "    <tr>\n",
       "      <th>20178</th>\n",
       "      <td>Zone Mechanical Ventilation Air Changes per Hour</td>\n",
       "      <td>3FXOFFICEXAC1:OFFICE</td>\n",
       "    </tr>\n",
       "    <tr>\n",
       "      <th>20179</th>\n",
       "      <td>Zone Mechanical Ventilation Air Changes per Hour</td>\n",
       "      <td>3FXOFFICEXAC1:OFFICE</td>\n",
       "    </tr>\n",
       "    <tr>\n",
       "      <th>20180</th>\n",
       "      <td>Zone Mechanical Ventilation Air Changes per Hour</td>\n",
       "      <td>3FXOFFICEXAC1:OFFICE</td>\n",
       "    </tr>\n",
       "  </tbody>\n",
       "</table>\n",
       "<p>20181 rows × 2 columns</p>\n",
       "</div>"
      ],
      "text/plain": [
       "                                          variable_name          variable_key\n",
       "0                  Site Outdoor Air Drybulb Temperature           ENVIRONMENT\n",
       "1                  Site Outdoor Air Drybulb Temperature           ENVIRONMENT\n",
       "2                  Site Outdoor Air Drybulb Temperature           ENVIRONMENT\n",
       "3                  Site Outdoor Air Drybulb Temperature           ENVIRONMENT\n",
       "4                  Site Outdoor Air Drybulb Temperature           ENVIRONMENT\n",
       "...                                                 ...                   ...\n",
       "20176  Zone Mechanical Ventilation Air Changes per Hour  3FXOFFICEXAC1:OFFICE\n",
       "20177  Zone Mechanical Ventilation Air Changes per Hour  3FXOFFICEXAC1:OFFICE\n",
       "20178  Zone Mechanical Ventilation Air Changes per Hour  3FXOFFICEXAC1:OFFICE\n",
       "20179  Zone Mechanical Ventilation Air Changes per Hour  3FXOFFICEXAC1:OFFICE\n",
       "20180  Zone Mechanical Ventilation Air Changes per Hour  3FXOFFICEXAC1:OFFICE\n",
       "\n",
       "[20181 rows x 2 columns]"
      ]
     },
     "execution_count": 4,
     "metadata": {},
     "output_type": "execute_result"
    }
   ],
   "source": [
    "env.specs.variables"
   ]
  },
  {
   "cell_type": "code",
   "execution_count": 29,
   "metadata": {},
   "outputs": [
    {
     "data": {
      "text/plain": [
       "array(['ENVIRONMENT', 'BASEMENT2:B1XSERVERROOM GENERAL LIGHTING',\n",
       "       'BASEMENT2:B1XCORE GENERAL LIGHTING', ...,\n",
       "       'AIR LOOP 5 AHU HEAT RECOVERY RELIEF OUTLET',\n",
       "       'AIR LOOP 6 AHU HEAT RECOVERY RELIEF OUTLET', 'SITE'], dtype=object)"
      ]
     },
     "execution_count": 29,
     "metadata": {},
     "output_type": "execute_result"
    }
   ],
   "source": [
    "env.specs.variables['variable_key'].unique()"
   ]
  },
  {
   "cell_type": "code",
   "execution_count": 10,
   "metadata": {},
   "outputs": [
    {
     "ename": "SyntaxError",
     "evalue": "invalid syntax (2971856230.py, line 1)",
     "output_type": "error",
     "traceback": [
      "\u001b[1;36m  Cell \u001b[1;32mIn[10], line 1\u001b[1;36m\u001b[0m\n\u001b[1;33m    EnergyManagementSystem:Actuator,\u001b[0m\n\u001b[1;37m                                   ^\u001b[0m\n\u001b[1;31mSyntaxError\u001b[0m\u001b[1;31m:\u001b[0m invalid syntax\n"
     ]
    }
   ],
   "source": [
    "EnergyManagementSystem:Actuator,\n",
    "   Temperature_Setpoint_CHW_LOOP_SUPPLY_SIDE_OUTLET,\n",
    "   CHW LOOP SUPPLY SIDE OUTLET,\n",
    "   System Node Setpoint,\n",
    "   Temperature Setpoint;"
   ]
  },
  {
   "cell_type": "code",
   "execution_count": 48,
   "metadata": {},
   "outputs": [
    {
     "data": {
      "text/html": [
       "<div>\n",
       "<style scoped>\n",
       "    .dataframe tbody tr th:only-of-type {\n",
       "        vertical-align: middle;\n",
       "    }\n",
       "\n",
       "    .dataframe tbody tr th {\n",
       "        vertical-align: top;\n",
       "    }\n",
       "\n",
       "    .dataframe thead th {\n",
       "        text-align: right;\n",
       "    }\n",
       "</style>\n",
       "<table border=\"1\" class=\"dataframe\">\n",
       "  <thead>\n",
       "    <tr style=\"text-align: right;\">\n",
       "      <th></th>\n",
       "      <th>variable_name</th>\n",
       "      <th>variable_key</th>\n",
       "    </tr>\n",
       "  </thead>\n",
       "  <tbody>\n",
       "    <tr>\n",
       "      <th>8195</th>\n",
       "      <td>Chiller Electricity Rate</td>\n",
       "      <td>CHILLER</td>\n",
       "    </tr>\n",
       "    <tr>\n",
       "      <th>8196</th>\n",
       "      <td>Chiller Electricity Rate</td>\n",
       "      <td>CHILLER</td>\n",
       "    </tr>\n",
       "    <tr>\n",
       "      <th>8197</th>\n",
       "      <td>Chiller Electricity Rate</td>\n",
       "      <td>CHILLER</td>\n",
       "    </tr>\n",
       "    <tr>\n",
       "      <th>8198</th>\n",
       "      <td>Chiller Electricity Rate</td>\n",
       "      <td>CHILLER</td>\n",
       "    </tr>\n",
       "    <tr>\n",
       "      <th>8199</th>\n",
       "      <td>Chiller Electricity Rate</td>\n",
       "      <td>CHILLER</td>\n",
       "    </tr>\n",
       "    <tr>\n",
       "      <th>8208</th>\n",
       "      <td>Chiller Electricity Rate</td>\n",
       "      <td>CHILLER 1</td>\n",
       "    </tr>\n",
       "    <tr>\n",
       "      <th>8209</th>\n",
       "      <td>Chiller Electricity Rate</td>\n",
       "      <td>CHILLER 1</td>\n",
       "    </tr>\n",
       "    <tr>\n",
       "      <th>8210</th>\n",
       "      <td>Chiller Electricity Rate</td>\n",
       "      <td>CHILLER 1</td>\n",
       "    </tr>\n",
       "    <tr>\n",
       "      <th>8211</th>\n",
       "      <td>Chiller Electricity Rate</td>\n",
       "      <td>CHILLER 1</td>\n",
       "    </tr>\n",
       "    <tr>\n",
       "      <th>8212</th>\n",
       "      <td>Chiller Electricity Rate</td>\n",
       "      <td>CHILLER 1</td>\n",
       "    </tr>\n",
       "    <tr>\n",
       "      <th>8225</th>\n",
       "      <td>Chiller Electricity Rate</td>\n",
       "      <td>CHILLER 2</td>\n",
       "    </tr>\n",
       "    <tr>\n",
       "      <th>8226</th>\n",
       "      <td>Chiller Electricity Rate</td>\n",
       "      <td>CHILLER 2</td>\n",
       "    </tr>\n",
       "    <tr>\n",
       "      <th>8227</th>\n",
       "      <td>Chiller Electricity Rate</td>\n",
       "      <td>CHILLER 2</td>\n",
       "    </tr>\n",
       "    <tr>\n",
       "      <th>8228</th>\n",
       "      <td>Chiller Electricity Rate</td>\n",
       "      <td>CHILLER 2</td>\n",
       "    </tr>\n",
       "    <tr>\n",
       "      <th>8229</th>\n",
       "      <td>Chiller Electricity Rate</td>\n",
       "      <td>CHILLER 2</td>\n",
       "    </tr>\n",
       "  </tbody>\n",
       "</table>\n",
       "</div>"
      ],
      "text/plain": [
       "                 variable_name variable_key\n",
       "8195  Chiller Electricity Rate      CHILLER\n",
       "8196  Chiller Electricity Rate      CHILLER\n",
       "8197  Chiller Electricity Rate      CHILLER\n",
       "8198  Chiller Electricity Rate      CHILLER\n",
       "8199  Chiller Electricity Rate      CHILLER\n",
       "8208  Chiller Electricity Rate    CHILLER 1\n",
       "8209  Chiller Electricity Rate    CHILLER 1\n",
       "8210  Chiller Electricity Rate    CHILLER 1\n",
       "8211  Chiller Electricity Rate    CHILLER 1\n",
       "8212  Chiller Electricity Rate    CHILLER 1\n",
       "8225  Chiller Electricity Rate    CHILLER 2\n",
       "8226  Chiller Electricity Rate    CHILLER 2\n",
       "8227  Chiller Electricity Rate    CHILLER 2\n",
       "8228  Chiller Electricity Rate    CHILLER 2\n",
       "8229  Chiller Electricity Rate    CHILLER 2"
      ]
     },
     "execution_count": 48,
     "metadata": {},
     "output_type": "execute_result"
    }
   ],
   "source": [
    "env.specs.variables[\n",
    "    env.specs.variables['variable_name']\n",
    "        .str\n",
    "        .contains('Chiller Electricity Rate')\n",
    "]"
   ]
  },
  {
   "cell_type": "code",
   "execution_count": 31,
   "metadata": {},
   "outputs": [
    {
     "data": {
      "text/html": [
       "<div>\n",
       "<style scoped>\n",
       "    .dataframe tbody tr th:only-of-type {\n",
       "        vertical-align: middle;\n",
       "    }\n",
       "\n",
       "    .dataframe tbody tr th {\n",
       "        vertical-align: top;\n",
       "    }\n",
       "\n",
       "    .dataframe thead th {\n",
       "        text-align: right;\n",
       "    }\n",
       "</style>\n",
       "<table border=\"1\" class=\"dataframe\">\n",
       "  <thead>\n",
       "    <tr style=\"text-align: right;\">\n",
       "      <th></th>\n",
       "      <th>component_type</th>\n",
       "      <th>control_type</th>\n",
       "      <th>actuator_key</th>\n",
       "    </tr>\n",
       "  </thead>\n",
       "  <tbody>\n",
       "  </tbody>\n",
       "</table>\n",
       "</div>"
      ],
      "text/plain": [
       "Empty DataFrame\n",
       "Columns: [component_type, control_type, actuator_key]\n",
       "Index: []"
      ]
     },
     "execution_count": 31,
     "metadata": {},
     "output_type": "execute_result"
    }
   ],
   "source": [
    "env.specs.actuators[\n",
    "    env.specs.actuators['actuator_key']\n",
    "        .str\n",
    "        .contains('COOLSYS1 CHILLER1 WATER INLET NODE')\n",
    "]"
   ]
  },
  {
   "cell_type": "code",
   "execution_count": 5,
   "metadata": {},
   "outputs": [
    {
     "name": "stdout",
     "output_type": "stream",
     "text": [
      "T_chws_set_ref Value: 6.0\n"
     ]
    }
   ],
   "source": [
    "T_chws_set_ref = env.actuator(dict(\n",
    "    component_type='System Node Setpoint',\n",
    "    control_type='Temperature Setpoint',\n",
    "    actuator_key='CHW LOOP SUPPLY SIDE OUTLET'\n",
    "))\n",
    "\n",
    "print(f'T_chws_set_ref Value: {T_chws_set_ref.value}')"
   ]
  },
  {
   "cell_type": "code",
   "execution_count": 6,
   "metadata": {},
   "outputs": [
    {
     "name": "stdout",
     "output_type": "stream",
     "text": [
      "T_outdoor Value: 23.1\n"
     ]
    }
   ],
   "source": [
    "T_outdoor = env.variable(dict(\n",
    "    variable_name='Site Outdoor Air Drybulb Temperature',\n",
    "    variable_key='ENVIRONMENT'\n",
    "))\n",
    "\n",
    "print(f'T_outdoor Value: {T_outdoor.value}')"
   ]
  },
  {
   "cell_type": "code",
   "execution_count": 11,
   "metadata": {},
   "outputs": [
    {
     "name": "stdout",
     "output_type": "stream",
     "text": [
      "P_chiller1 Value: 0.0\n"
     ]
    }
   ],
   "source": [
    "P_chiller1 = env.variable(dict(\n",
    "    variable_name='Chiller Electricity Energy',\n",
    "    variable_key='CHILLER 1'\n",
    "))\n",
    "\n",
    "print(f'P_chiller1 Value: {P_chiller1.value}')"
   ]
  },
  {
   "cell_type": "code",
   "execution_count": 49,
   "metadata": {},
   "outputs": [
    {
     "name": "stdout",
     "output_type": "stream",
     "text": [
      "P_chiller1 Value: 0.0\n"
     ]
    }
   ],
   "source": [
    "P_chiller2 = env.variable(dict(\n",
    "    variable_name='Chiller Electricity Rate',\n",
    "    variable_key='CHILLER'\n",
    "))\n",
    "\n",
    "print(f'P_chiller1 Value: {P_chiller2.value}')"
   ]
  },
  {
   "cell_type": "code",
   "execution_count": 12,
   "metadata": {},
   "outputs": [
    {
     "name": "stdout",
     "output_type": "stream",
     "text": [
      "T_chws_chiller1 Value: 6.0\n",
      "F_chw_chiller1 Value: 0.0\n"
     ]
    }
   ],
   "source": [
    "T_chws_chiller1 = env.variable(dict(\n",
    "    variable_name='System Node Temperature',\n",
    "    variable_key='CHW LOOP SUPPLY SIDE OUTLET'\n",
    "))\n",
    "\n",
    "print(f'T_chws_chiller1 Value: {T_chws_chiller1.value}')\n",
    "\n",
    "F_chw_chiller1 = env.variable(dict(\n",
    "    variable_name='System Node Mass Flow Rate',\n",
    "    variable_key='CHW LOOP SUPPLY SIDE OUTLET'\n",
    "))\n",
    "\n",
    "print(f'F_chw_chiller1 Value: {F_chw_chiller1.value}')\n",
    "\n"
   ]
  },
  {
   "cell_type": "code",
   "execution_count": 56,
   "metadata": {},
   "outputs": [
    {
     "name": "stdout",
     "output_type": "stream",
     "text": [
      "T_chws_chiller1 Value: 6.0\n",
      "F_chw_chiller1 Value: 0.0\n"
     ]
    }
   ],
   "source": [
    "T_chws_chiller1 = env.variable(dict(\n",
    "    variable_name='System Node Temperature',\n",
    "    variable_key='CHW LOOP SUPPLY PUMP WATER OUTLET NODE'\n",
    "))\n",
    "\n",
    "print(f'T_chws_chiller1 Value: {T_chws_chiller1.value}')\n",
    "\n",
    "F_chw_chiller1 = env.variable(dict(\n",
    "    variable_name='System Node Mass Flow Rate',\n",
    "    variable_key='CHW LOOP SUPPLY SIDE OUTLET'\n",
    "))\n",
    "\n",
    "print(f'F_chw_chiller1 Value: {F_chw_chiller1.value}')"
   ]
  },
  {
   "cell_type": "code",
   "execution_count": 29,
   "metadata": {},
   "outputs": [],
   "source": [
    "env = ooep.ems.Environment().__enter__()\n",
    "emeter = env.variable(dict(\n",
    "    variable_name='Chiller Electricity Energy',\n",
    "    variable_key='CHILLER 1',\n",
    "))\n",
    "\n",
    "sm_env = ooep.addons.state.StateMachine(env)\n",
    "sm_stepf = sm_env.step_function(\n",
    "    dict(event_name='begin_zone_timestep_after_init_heat_balance')\n",
    ")\n",
    "\n"
   ]
  },
  {
   "cell_type": "code",
   "execution_count": 21,
   "metadata": {},
   "outputs": [],
   "source": [
    "sm_env.run(\n",
    "    '--output-directory', 'build2/demo-eplus',\n",
    "    '--weather', f'./USA_FL_Tampa.Intl.AP.722110_TMY3.epw',\n",
    "    f'./test9_timeStepReduced.idf',\n",
    "    verbose=True,\n",
    ")"
   ]
  },
  {
   "cell_type": "code",
   "execution_count": 20,
   "metadata": {},
   "outputs": [
    {
     "name": "stderr",
     "output_type": "stream",
     "text": [
      "output build2/demo-eplus\n"
     ]
    }
   ],
   "source": [
    "print('output', 'build2/demo-eplus',  file=__import__('sys').stderr)"
   ]
  },
  {
   "cell_type": "code",
   "execution_count": 36,
   "metadata": {},
   "outputs": [],
   "source": [
    "env = energyplus.ooep.ems.Environment().__enter__()\n",
    "emeter = env.variable(dict(\n",
    "    variable_name='Chiller Electricity Energy',\n",
    "    variable_key='Chiller',\n",
    "))\n",
    "\n",
    "sm_env = ooep.addons.state.StateMachine(env)\n",
    "sm_stepf = sm_env.step_function(\n",
    "    dict(event_name='begin_zone_timestep_after_init_heat_balance')\n",
    ")\n",
    "\n",
    "\n"
   ]
  },
  {
   "cell_type": "code",
   "execution_count": 41,
   "metadata": {},
   "outputs": [],
   "source": [
    "sm_env.run(\n",
    "    '--output-directory', 'build2/demo-eplus',\n",
    "    '--weather', f'./USA_FL_Tampa.Intl.AP.722110_TMY3.epw',\n",
    "    f'./test9_timeStepReduced.idf',\n",
    "    verbose=True,\n",
    ")"
   ]
  },
  {
   "cell_type": "code",
   "execution_count": 1,
   "metadata": {},
   "outputs": [
    {
     "name": "stderr",
     "output_type": "stream",
     "text": [
      "output build2/demo-eplus\n"
     ]
    }
   ],
   "source": [
    "import energyplus.ooep as ooep\n",
    "import energyplus.ooep.ems\n",
    "import energyplus.ooep.addons.state\n",
    "\n",
    "from energyplus.dataset.basic import dataset as epds\n",
    "\n",
    "env = energyplus.ooep.ems.Environment().__enter__()\n",
    "emeter = env.variable(dict(\n",
    "    variable_name='Chiller Electricity Energy',\n",
    "    variable_key='Chiller',\n",
    "))\n",
    "\n",
    "sm_env = ooep.addons.state.StateMachine(env)\n",
    "sm_stepf = sm_env.step_function(\n",
    "    dict(event_name='begin_zone_timestep_after_init_heat_balance')\n",
    ")\n",
    "\n",
    "sm_env.run(\n",
    "    '--output-directory', 'build2/demo-eplus',\n",
    "    '--weather', f'./USA_FL_Tampa.Intl.AP.722110_TMY3.epw',\n",
    "    f'./test9_timeStepReduced.idf',\n",
    "    verbose=True,\n",
    ")\n",
    "print('output', 'build2/demo-eplus',  file=__import__('sys').stderr)"
   ]
  },
  {
   "cell_type": "code",
   "execution_count": 9,
   "metadata": {},
   "outputs": [
    {
     "ename": "SyntaxError",
     "evalue": "invalid syntax (2052072266.py, line 15)",
     "output_type": "error",
     "traceback": [
      "\u001b[1;36m  Cell \u001b[1;32mIn[9], line 15\u001b[1;36m\u001b[0m\n\u001b[1;33m    except ooep.ems.NotReadyError: pass\u001b[0m\n\u001b[1;37m    ^\u001b[0m\n\u001b[1;31mSyntaxError\u001b[0m\u001b[1;31m:\u001b[0m invalid syntax\n"
     ]
    }
   ],
   "source": [
    "while True:\n",
    "    sm_stepf()\n",
    "    try: print(rf'(emeter={emeter.value})', flush=True, file=__import__('sys').stderr)\n",
    "    except ooep.ems.NotReadyError: pass"
   ]
  }
 ],
 "metadata": {
  "kernelspec": {
   "display_name": "Python 3",
   "language": "python",
   "name": "python3"
  },
  "language_info": {
   "codemirror_mode": {
    "name": "ipython",
    "version": 3
   },
   "file_extension": ".py",
   "mimetype": "text/x-python",
   "name": "python",
   "nbconvert_exporter": "python",
   "pygments_lexer": "ipython3",
   "version": "3.12.2"
  }
 },
 "nbformat": 4,
 "nbformat_minor": 2
}
