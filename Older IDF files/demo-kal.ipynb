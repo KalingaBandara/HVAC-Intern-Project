{
 "cells": [
  {
   "cell_type": "code",
   "execution_count": 3,
   "id": "fe36a3e3",
   "metadata": {},
   "outputs": [
    {
     "name": "stdout",
     "output_type": "stream",
     "text": [
      "Requirement already satisfied: tqdm in e:\\softwares\\python312\\lib\\site-packages (4.66.2)\n",
      "Requirement already satisfied: pandas in e:\\softwares\\python312\\lib\\site-packages (2.2.0)\n",
      "Requirement already satisfied: colorama in c:\\users\\asus pro\\appdata\\roaming\\python\\python312\\site-packages (from tqdm) (0.4.6)\n",
      "Requirement already satisfied: numpy<2,>=1.26.0 in e:\\softwares\\python312\\lib\\site-packages (from pandas) (1.26.4)\n",
      "Requirement already satisfied: python-dateutil>=2.8.2 in c:\\users\\asus pro\\appdata\\roaming\\python\\python312\\site-packages (from pandas) (2.8.2)\n",
      "Requirement already satisfied: pytz>=2020.1 in e:\\softwares\\python312\\lib\\site-packages (from pandas) (2024.1)\n",
      "Requirement already satisfied: tzdata>=2022.7 in e:\\softwares\\python312\\lib\\site-packages (from pandas) (2024.1)\n",
      "Requirement already satisfied: six>=1.5 in c:\\users\\asus pro\\appdata\\roaming\\python\\python312\\site-packages (from python-dateutil>=2.8.2->pandas) (1.16.0)\n",
      "Note: you may need to restart the kernel to use updated packages.\n",
      "Looking in indexes: https://pypi.org/simple, https://test.pypi.org/simple/\n",
      "Collecting git+https://github.com/NTU-CCA-HVAC-OPTIM-a842a748/EnergyPlus-OOEP\n",
      "  Cloning https://github.com/NTU-CCA-HVAC-OPTIM-a842a748/EnergyPlus-OOEP to c:\\users\\asus pro\\appdata\\local\\temp\\pip-req-build-3k9b2x9r\n",
      "  Resolved https://github.com/NTU-CCA-HVAC-OPTIM-a842a748/EnergyPlus-OOEP to commit f1f441d093e394e6ce022872a0e0ccb375d84d13\n",
      "  Installing build dependencies: started\n",
      "  Installing build dependencies: finished with status 'done'\n",
      "  Getting requirements to build wheel: started\n",
      "  Getting requirements to build wheel: finished with status 'done'\n",
      "  Installing backend dependencies: started\n",
      "  Installing backend dependencies: finished with status 'done'\n",
      "  Preparing metadata (pyproject.toml): started\n",
      "  Preparing metadata (pyproject.toml): finished with status 'done'\n",
      "Requirement already satisfied: energyplus-core in e:\\softwares\\python312\\lib\\site-packages (from energyplus-ooep==0.0.post1.dev11+gf1f441d) (0.1.0a0)\n",
      "Requirement already satisfied: packaging in c:\\users\\asus pro\\appdata\\roaming\\python\\python312\\site-packages (from energyplus-ooep==0.0.post1.dev11+gf1f441d) (23.2)\n",
      "Requirement already satisfied: pandas in e:\\softwares\\python312\\lib\\site-packages (from energyplus-ooep==0.0.post1.dev11+gf1f441d) (2.2.0)\n",
      "Requirement already satisfied: numpy<2,>=1.26.0 in e:\\softwares\\python312\\lib\\site-packages (from pandas->energyplus-ooep==0.0.post1.dev11+gf1f441d) (1.26.4)\n",
      "Requirement already satisfied: python-dateutil>=2.8.2 in c:\\users\\asus pro\\appdata\\roaming\\python\\python312\\site-packages (from pandas->energyplus-ooep==0.0.post1.dev11+gf1f441d) (2.8.2)\n",
      "Requirement already satisfied: pytz>=2020.1 in e:\\softwares\\python312\\lib\\site-packages (from pandas->energyplus-ooep==0.0.post1.dev11+gf1f441d) (2024.1)\n",
      "Requirement already satisfied: tzdata>=2022.7 in e:\\softwares\\python312\\lib\\site-packages (from pandas->energyplus-ooep==0.0.post1.dev11+gf1f441d) (2024.1)\n",
      "Requirement already satisfied: six>=1.5 in c:\\users\\asus pro\\appdata\\roaming\\python\\python312\\site-packages (from python-dateutil>=2.8.2->pandas->energyplus-ooep==0.0.post1.dev11+gf1f441d) (1.16.0)\n",
      "Note: you may need to restart the kernel to use updated packages.\n"
     ]
    },
    {
     "name": "stderr",
     "output_type": "stream",
     "text": [
      "  Running command git clone --filter=blob:none --quiet https://github.com/NTU-CCA-HVAC-OPTIM-a842a748/EnergyPlus-OOEP 'C:\\Users\\Asus Pro\\AppData\\Local\\Temp\\pip-req-build-3k9b2x9r'\n"
     ]
    },
    {
     "name": "stdout",
     "output_type": "stream",
     "text": [
      "Collecting git+https://github.com/NTU-CCA-HVAC-OPTIM-a842a748/EnergyPlus-Datasets.gitNote: you may need to restart the kernel to use updated packages.\n",
      "\n",
      "  Cloning https://github.com/NTU-CCA-HVAC-OPTIM-a842a748/EnergyPlus-Datasets.git to c:\\users\\asus pro\\appdata\\local\\temp\\pip-req-build-eh_mahvl\n",
      "  Resolved https://github.com/NTU-CCA-HVAC-OPTIM-a842a748/EnergyPlus-Datasets.git to commit 62b02ce49492fb063dd0181b078ab37cb7202d4e\n",
      "  Installing build dependencies: started\n",
      "  Installing build dependencies: finished with status 'done'\n",
      "  Getting requirements to build wheel: started\n",
      "  Getting requirements to build wheel: finished with status 'done'\n",
      "  Installing backend dependencies: started\n",
      "  Installing backend dependencies: finished with status 'done'\n",
      "  Preparing metadata (pyproject.toml): started\n",
      "  Preparing metadata (pyproject.toml): finished with status 'done'\n"
     ]
    },
    {
     "name": "stderr",
     "output_type": "stream",
     "text": [
      "  Running command git clone --filter=blob:none --quiet https://github.com/NTU-CCA-HVAC-OPTIM-a842a748/EnergyPlus-Datasets.git 'C:\\Users\\Asus Pro\\AppData\\Local\\Temp\\pip-req-build-eh_mahvl'\n",
      "  Running command git submodule update --init --recursive -q\n"
     ]
    }
   ],
   "source": [
    "%pip install tqdm pandas\n",
    "%pip install --extra-index-url https://test.pypi.org/simple/ git+https://github.com/NTU-CCA-HVAC-OPTIM-a842a748/EnergyPlus-OOEP\n",
    "# NOTE local repo\n",
    "#%pip install --extra-index-url https://test.pypi.org/simple/ ../../..\n",
    "%pip install git+https://github.com/NTU-CCA-HVAC-OPTIM-a842a748/EnergyPlus-Datasets.git"
   ]
  },
  {
   "cell_type": "code",
   "execution_count": 1,
   "id": "943e3904-d4b2-402f-ab29-3a56dcfa7235",
   "metadata": {
    "scrolled": true
   },
   "outputs": [
    {
     "name": "stderr",
     "output_type": "stream",
     "text": [
      "output C:\\Users\\ASUSPR~1\\AppData\\Local\\Temp\\tmp08silfix\n"
     ]
    }
   ],
   "source": [
    "import energyplus.ooep as ooep\n",
    "import energyplus.ooep.ems\n",
    "import energyplus.ooep.addons.state\n",
    "\n",
    "from energyplus.dataset.basic import dataset as epds\n",
    "\n",
    "env = energyplus.ooep.ems.Environment().__enter__()\n",
    "emeter = env.variable(dict(\n",
    "    variable_name='Chiller Electricity Energy',\n",
    "    variable_key='Chiller',\n",
    "))\n",
    "\n",
    "sm_env = ooep.addons.state.StateMachine(env)\n",
    "sm_stepf = sm_env.step_function(\n",
    "    dict(event_name='begin_zone_timestep_after_init_heat_balance')\n",
    ")\n",
    "\n",
    "import tempfile\n",
    "\n",
    "f = tempfile.TemporaryDirectory()\n",
    "sm_env.run(\n",
    "    '--output-directory', f.name,\n",
    "    '--weather', f'./USA_FL_Tampa.Intl.AP.722110_TMY3.epw',\n",
    "    f'./test9_timeStepReduced.idf',\n",
    "    verbose=True,\n",
    ")\n",
    "print('output', f.name,  file=__import__('sys').stderr)"
   ]
  },
  {
   "cell_type": "code",
   "execution_count": 5,
   "id": "c4f04bd3-4264-4060-8c3a-474d6738117b",
   "metadata": {
    "scrolled": true
   },
   "outputs": [
    {
     "ename": "Terminated",
     "evalue": "",
     "output_type": "error",
     "traceback": [
      "\u001b[1;31m---------------------------------------------------------------------------\u001b[0m",
      "\u001b[1;31mClosed\u001b[0m                                    Traceback (most recent call last)",
      "File \u001b[1;32me:\\Softwares\\Python312\\Lib\\site-packages\\energyplus\\ooep\\addons\\state\\__init__.py:81\u001b[0m, in \u001b[0;36mBaseStateMachine.StepFunction.__call__\u001b[1;34m(self, func)\u001b[0m\n\u001b[0;32m     80\u001b[0m \u001b[39mdef\u001b[39;00m \u001b[39m__call__\u001b[39m(\u001b[39mself\u001b[39m, func: typing\u001b[39m.\u001b[39mCallable \u001b[39m|\u001b[39m \u001b[39mNone\u001b[39;00m \u001b[39m=\u001b[39m \u001b[39mNone\u001b[39;00m):\n\u001b[1;32m---> 81\u001b[0m     \u001b[39mtry\u001b[39;00m: \u001b[39mreturn\u001b[39;00m \u001b[39mself\u001b[39;49m\u001b[39m.\u001b[39;49m_callback\u001b[39m.\u001b[39;49m_base\u001b[39m.\u001b[39;49mcall(func)\n\u001b[0;32m     82\u001b[0m     \u001b[39mexcept\u001b[39;00m \u001b[39mself\u001b[39m\u001b[39m.\u001b[39m_callback\u001b[39m.\u001b[39m_base\u001b[39m.\u001b[39mClosed:\n",
      "File \u001b[1;32me:\\Softwares\\Python312\\Lib\\site-packages\\energyplus\\ooep\\addons\\state\\callback_queues.py:43\u001b[0m, in \u001b[0;36mCloseableCallbackQueue.call\u001b[1;34m(self, func)\u001b[0m\n\u001b[0;32m     42\u001b[0m \u001b[39mif\u001b[39;00m \u001b[39mself\u001b[39m\u001b[39m.\u001b[39mclosed:\n\u001b[1;32m---> 43\u001b[0m     \u001b[39mraise\u001b[39;00m \u001b[39mself\u001b[39m\u001b[39m.\u001b[39mClosed()\n\u001b[0;32m     44\u001b[0m \u001b[39mreturn\u001b[39;00m \u001b[39msuper\u001b[39m()\u001b[39m.\u001b[39mcall(func)\n",
      "\u001b[1;31mClosed\u001b[0m: ",
      "\nDuring handling of the above exception, another exception occurred:\n",
      "\u001b[1;31mTerminated\u001b[0m                                Traceback (most recent call last)",
      "Cell \u001b[1;32mIn[5], line 2\u001b[0m\n\u001b[0;32m      1\u001b[0m \u001b[39mwhile\u001b[39;00m \u001b[39mTrue\u001b[39;00m:\n\u001b[1;32m----> 2\u001b[0m     sm_stepf()\n\u001b[0;32m      3\u001b[0m     \u001b[39mtry\u001b[39;00m: \u001b[39mprint\u001b[39m(\u001b[39mrf\u001b[39m\u001b[39m'\u001b[39m\u001b[39m(emeter=\u001b[39m\u001b[39m{\u001b[39;00memeter\u001b[39m.\u001b[39mvalue\u001b[39m}\u001b[39;00m\u001b[39m)\u001b[39m\u001b[39m'\u001b[39m, flush\u001b[39m=\u001b[39m\u001b[39mTrue\u001b[39;00m, file\u001b[39m=\u001b[39m\u001b[39m__import__\u001b[39m(\u001b[39m'\u001b[39m\u001b[39msys\u001b[39m\u001b[39m'\u001b[39m)\u001b[39m.\u001b[39mstderr)\n\u001b[0;32m      4\u001b[0m     \u001b[39mexcept\u001b[39;00m ooep\u001b[39m.\u001b[39mems\u001b[39m.\u001b[39mNotReadyError: \u001b[39mpass\u001b[39;00m\n",
      "File \u001b[1;32me:\\Softwares\\Python312\\Lib\\site-packages\\energyplus\\ooep\\addons\\state\\__init__.py:83\u001b[0m, in \u001b[0;36mBaseStateMachine.StepFunction.__call__\u001b[1;34m(self, func)\u001b[0m\n\u001b[0;32m     81\u001b[0m \u001b[39mtry\u001b[39;00m: \u001b[39mreturn\u001b[39;00m \u001b[39mself\u001b[39m\u001b[39m.\u001b[39m_callback\u001b[39m.\u001b[39m_base\u001b[39m.\u001b[39mcall(func)\n\u001b[0;32m     82\u001b[0m \u001b[39mexcept\u001b[39;00m \u001b[39mself\u001b[39m\u001b[39m.\u001b[39m_callback\u001b[39m.\u001b[39m_base\u001b[39m.\u001b[39mClosed:\n\u001b[1;32m---> 83\u001b[0m     \u001b[39mraise\u001b[39;00m \u001b[39mself\u001b[39m\u001b[39m.\u001b[39mTerminated()\n",
      "\u001b[1;31mTerminated\u001b[0m: "
     ]
    }
   ],
   "source": [
    "while True:\n",
    "    sm_stepf()\n",
    "    try: print(rf'(emeter={emeter.value})', flush=True, file=__import__('sys').stderr)\n",
    "    except ooep.ems.NotReadyError: pass"
   ]
  },
  {
   "cell_type": "code",
   "execution_count": 2,
   "id": "808129a6-d9d5-4677-aa85-d5ea3ab8d767",
   "metadata": {},
   "outputs": [],
   "source": [
    "while True:\n",
    "    sm_stepf()\n",
    "    try: print(rf'(emeter={emeter.value})', flush=True, file=__import__('sys').stderr)\n",
    "    except ooep.ems.NotReadyError: pass"
   ]
  }
 ],
 "metadata": {
  "kernelspec": {
   "display_name": "Python 3",
   "language": "python",
   "name": "python3"
  },
  "language_info": {
   "codemirror_mode": {
    "name": "ipython",
    "version": 3
   },
   "file_extension": ".py",
   "mimetype": "text/x-python",
   "name": "python",
   "nbconvert_exporter": "python",
   "pygments_lexer": "ipython3",
   "version": "3.12.2"
  }
 },
 "nbformat": 4,
 "nbformat_minor": 5
}
