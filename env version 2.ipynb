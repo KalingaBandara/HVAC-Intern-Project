{
 "cells": [
  {
   "cell_type": "code",
   "execution_count": 5,
   "metadata": {},
   "outputs": [
    {
     "name": "stdout",
     "output_type": "stream",
     "text": [
      "Requirement already satisfied: tqdm in e:\\softwares\\python312\\lib\\site-packages (4.66.2)\n",
      "Requirement already satisfied: pandas in e:\\softwares\\python312\\lib\\site-packages (2.2.0)\n",
      "Requirement already satisfied: colorama in c:\\users\\asus pro\\appdata\\roaming\\python\\python312\\site-packages (from tqdm) (0.4.6)\n",
      "Requirement already satisfied: numpy<2,>=1.26.0 in e:\\softwares\\python312\\lib\\site-packages (from pandas) (1.26.4)\n",
      "Requirement already satisfied: python-dateutil>=2.8.2 in c:\\users\\asus pro\\appdata\\roaming\\python\\python312\\site-packages (from pandas) (2.8.2)\n",
      "Requirement already satisfied: pytz>=2020.1 in e:\\softwares\\python312\\lib\\site-packages (from pandas) (2024.1)\n",
      "Requirement already satisfied: tzdata>=2022.7 in e:\\softwares\\python312\\lib\\site-packages (from pandas) (2024.1)\n",
      "Requirement already satisfied: six>=1.5 in c:\\users\\asus pro\\appdata\\roaming\\python\\python312\\site-packages (from python-dateutil>=2.8.2->pandas) (1.16.0)\n",
      "Note: you may need to restart the kernel to use updated packages.\n",
      "Looking in indexes: https://pypi.org/simple, https://test.pypi.org/simple/\n",
      "Collecting git+https://github.com/NTU-CCA-HVAC-OPTIM-a842a748/EnergyPlus-OOEP\n",
      "  Cloning https://github.com/NTU-CCA-HVAC-OPTIM-a842a748/EnergyPlus-OOEP to c:\\users\\asus pro\\appdata\\local\\temp\\pip-req-build-d2t7ufba\n",
      "  Resolved https://github.com/NTU-CCA-HVAC-OPTIM-a842a748/EnergyPlus-OOEP to commit f1f441d093e394e6ce022872a0e0ccb375d84d13\n",
      "  Installing build dependencies: started\n",
      "  Installing build dependencies: finished with status 'done'\n",
      "  Getting requirements to build wheel: started\n",
      "  Getting requirements to build wheel: finished with status 'done'\n",
      "  Installing backend dependencies: started\n",
      "  Installing backend dependencies: finished with status 'done'\n",
      "  Preparing metadata (pyproject.toml): started\n",
      "  Preparing metadata (pyproject.toml): finished with status 'done'\n",
      "Requirement already satisfied: energyplus-core in e:\\softwares\\python312\\lib\\site-packages (from energyplus-ooep==0.0.post1.dev11+gf1f441d) (0.1.0a0)\n",
      "Requirement already satisfied: packaging in c:\\users\\asus pro\\appdata\\roaming\\python\\python312\\site-packages (from energyplus-ooep==0.0.post1.dev11+gf1f441d) (23.2)\n",
      "Requirement already satisfied: pandas in e:\\softwares\\python312\\lib\\site-packages (from energyplus-ooep==0.0.post1.dev11+gf1f441d) (2.2.0)\n",
      "Requirement already satisfied: numpy<2,>=1.26.0 in e:\\softwares\\python312\\lib\\site-packages (from pandas->energyplus-ooep==0.0.post1.dev11+gf1f441d) (1.26.4)\n",
      "Requirement already satisfied: python-dateutil>=2.8.2 in c:\\users\\asus pro\\appdata\\roaming\\python\\python312\\site-packages (from pandas->energyplus-ooep==0.0.post1.dev11+gf1f441d) (2.8.2)\n",
      "Requirement already satisfied: pytz>=2020.1 in e:\\softwares\\python312\\lib\\site-packages (from pandas->energyplus-ooep==0.0.post1.dev11+gf1f441d) (2024.1)\n",
      "Requirement already satisfied: tzdata>=2022.7 in e:\\softwares\\python312\\lib\\site-packages (from pandas->energyplus-ooep==0.0.post1.dev11+gf1f441d) (2024.1)\n",
      "Requirement already satisfied: six>=1.5 in c:\\users\\asus pro\\appdata\\roaming\\python\\python312\\site-packages (from python-dateutil>=2.8.2->pandas->energyplus-ooep==0.0.post1.dev11+gf1f441d) (1.16.0)\n",
      "Note: you may need to restart the kernel to use updated packages.\n"
     ]
    },
    {
     "name": "stderr",
     "output_type": "stream",
     "text": [
      "  Running command git clone --filter=blob:none --quiet https://github.com/NTU-CCA-HVAC-OPTIM-a842a748/EnergyPlus-OOEP 'C:\\Users\\Asus Pro\\AppData\\Local\\Temp\\pip-req-build-d2t7ufba'\n"
     ]
    },
    {
     "name": "stdout",
     "output_type": "stream",
     "text": [
      "Collecting git+https://github.com/NTU-CCA-HVAC-OPTIM-a842a748/EnergyPlus-Datasets.git\n",
      "  Cloning https://github.com/NTU-CCA-HVAC-OPTIM-a842a748/EnergyPlus-Datasets.git to c:\\users\\asus pro\\appdata\\local\\temp\\pip-req-build-8mokt1rt\n",
      "  Resolved https://github.com/NTU-CCA-HVAC-OPTIM-a842a748/EnergyPlus-Datasets.git to commit 62b02ce49492fb063dd0181b078ab37cb7202d4e\n",
      "  Installing build dependencies: started\n",
      "  Installing build dependencies: finished with status 'done'\n",
      "  Getting requirements to build wheel: started\n",
      "  Getting requirements to build wheel: finished with status 'done'\n",
      "  Installing backend dependencies: started\n",
      "  Installing backend dependencies: finished with status 'done'\n",
      "  Preparing metadata (pyproject.toml): started\n",
      "  Preparing metadata (pyproject.toml): finished with status 'done'\n",
      "Note: you may need to restart the kernel to use updated packages.\n"
     ]
    },
    {
     "name": "stderr",
     "output_type": "stream",
     "text": [
      "  Running command git clone --filter=blob:none --quiet https://github.com/NTU-CCA-HVAC-OPTIM-a842a748/EnergyPlus-Datasets.git 'C:\\Users\\Asus Pro\\AppData\\Local\\Temp\\pip-req-build-8mokt1rt'\n",
      "  Running command git submodule update --init --recursive -q\n"
     ]
    }
   ],
   "source": [
    "%pip install tqdm pandas\n",
    "%pip install --extra-index-url https://test.pypi.org/simple/ git+https://github.com/NTU-CCA-HVAC-OPTIM-a842a748/EnergyPlus-OOEP\n",
    "# NOTE local repo\n",
    "#%pip install --extra-index-url https://test.pypi.org/simple/ ../../..\n",
    "%pip install git+https://github.com/NTU-CCA-HVAC-OPTIM-a842a748/EnergyPlus-Datasets.git"
   ]
  },
  {
   "cell_type": "code",
   "execution_count": 16,
   "metadata": {},
   "outputs": [
    {
     "name": "stderr",
     "output_type": "stream",
     "text": [
      "output build3/demo-eplus\n"
     ]
    }
   ],
   "source": [
    "import energyplus.ooep as ooep\n",
    "import energyplus.ooep.ems\n",
    "import energyplus.ooep.addons.state\n",
    "\n",
    "from energyplus.dataset.basic import dataset as epds\n",
    "\n",
    "env = energyplus.ooep.ems.Environment().__enter__()\n",
    "\n",
    "keys = ['CHILLER', 'CHILLER 1', 'CHILLER 2']\n",
    "emeter = [env.variable(dict(variable_name='Chiller Electricity Rate', variable_key=key)) for key in keys]\n",
    "\n",
    "T_outdoor = env.variable(dict(\n",
    "    variable_name='Site Outdoor Air Drybulb Temperature',\n",
    "    variable_key='ENVIRONMENT'\n",
    "))\n",
    "\n",
    "F_chw = env.variable(dict(variable_name='System Node Mass Flow Rate', variable_key='CHW Loop Supply Side'))\n",
    "T_chws = env.variable(dict(variable_name='Chiller Evaporator Outlet Temperature', variable_key='Chiller'))\n",
    "T_chwr = env.variable(dict(variable_name='Chiller Evaporator Inlet Temperature', variable_key='Chiller'))\n",
    "\n",
    "T_chws_set = env.actuator(dict(component_type='System Node Setpoint',control_type = 'Temperature Setpoint', actuator_key='CHW Loop Supply Side Outlet'))\n",
    "\n",
    "\n",
    "sm_env = ooep.addons.state.StateMachine(env)\n",
    "sm_stepf = sm_env.step_function(\n",
    "    dict(event_name='begin_zone_timestep_after_init_heat_balance')\n",
    ")\n",
    "\n",
    "sm_env.run(\n",
    "    '--output-directory', 'build3/demo-eplus',\n",
    "    '--weather', f'./USA_FL_Tampa.Intl.AP.722110_TMY3.epw',\n",
    "    f'./test9_timeStepReduced.idf',\n",
    "    verbose=True,\n",
    ")\n",
    "print('output', 'build3/demo-eplus',  file=__import__('sys').stderr)\n",
    "\n",
    "\n"
   ]
  },
  {
   "cell_type": "code",
   "execution_count": 18,
   "metadata": {},
   "outputs": [],
   "source": [
    "import numpy as np\n",
    "\n",
    "# Define Q-learning parameters\n",
    "alpha = 0.1  # Learning rate\n",
    "gamma = 0.99  # Discount factor\n",
    "epsilon = 0.1  # Exploration rate\n",
    "\n",
    "# Define state and action spaces\n",
    "num_actions = 3  # Increase, remain same, decrease\n",
    "num_states = 100  # Number of discrete states\n",
    "\n",
    "# Initialize Q-table\n",
    "Q = np.zeros((num_states, num_actions))\n",
    "\n",
    "# Define variables to store training metrics\n",
    "total_rewards = []\n",
    "\n",
    "# Define state discretization parameters\n",
    "min_cooling_load = 0\n",
    "max_cooling_load = 1000\n",
    "min_outdoor_temp = -10\n",
    "max_outdoor_temp = 40\n",
    "\n",
    "def calculate_cooling_load(T_chwr, T_chws, C_p=4200, rho=1000):\n",
    "    return (C_p * rho * (T_chwr - T_chws)) / 3600\n",
    "\n",
    "def calculate_reward(T_chwr, x_comfort, x_energy,  P_chiller, P_chiller_nominal=60000, beta1=0.25, beta2=4.15, beta3=-1, beta4=1):\n",
    "    U_comfort = 1 / (1 + beta1 * np.exp(beta2 * (T_chwr - 6)))\n",
    "    U_energy =  beta3 * ((np.sum(P_chiller))/P_chiller_nominal) + beta4\n",
    "    return U_comfort * x_comfort + U_energy * x_energy\n",
    "\n",
    "# Define function to discretize state\n",
    "def discretize_state(cooling_load, outdoor_temp):\n",
    "    cooling_load = np.clip(cooling_load, min_cooling_load, max_cooling_load)\n",
    "    outdoor_temp = np.clip(outdoor_temp, min_outdoor_temp, max_outdoor_temp)\n",
    "    cooling_load_scaled = (cooling_load - min_cooling_load) / (max_cooling_load - min_cooling_load)\n",
    "    outdoor_temp_scaled = (outdoor_temp - min_outdoor_temp) / (max_outdoor_temp - min_outdoor_temp)\n",
    "    state = int(cooling_load_scaled * (num_states - 1))\n",
    "    return state\n",
    "\n",
    "# Define function to select action using epsilon-greedy policy\n",
    "def select_action(state):\n",
    "    if np.random.rand() < epsilon:\n",
    "        action = np.random.choice(num_actions)   # Exploration\n",
    "        action_mapping = {\n",
    "        0: -1,  # Decrease setpoint temperature by 1 degree\n",
    "        1: 0,   # Maintain current setpoint temperature\n",
    "        2: 1    # Increase setpoint temperature by 1 degree\n",
    "        }\n",
    "\n",
    "        # Update Setpoint Temperature based on Chosen Action\n",
    "        delta_setpoint = action_mapping[action]\n",
    "        new_setpoint = T_chws_set.value + delta_setpoint\n",
    "        T_chws_set.value = new_setpoint\n",
    "        return action  # Exploration\n",
    "    else:\n",
    "        action = np.argmax(Q[state])  # Exploitation\n",
    "        action_mapping = {\n",
    "        0: -1,  # Decrease setpoint temperature by 1 degree\n",
    "        1: 0,   # Maintain current setpoint temperature\n",
    "        2: 1    # Increase setpoint temperature by 1 degree\n",
    "        }\n",
    "\n",
    "        # Update Setpoint Temperature based on Chosen Action\n",
    "        delta_setpoint = action_mapping[action]\n",
    "        new_setpoint = T_chws_set.value + delta_setpoint\n",
    "        T_chws_set.value = new_setpoint\n",
    "        return action\n",
    "\n",
    "# Define function to update Q-table\n",
    "def update_Q_table(state, action, reward, next_state):\n",
    "    best_next_action = np.argmax(Q[next_state])\n",
    "    Q[state, action] += alpha * (reward + gamma * Q[next_state, best_next_action] - Q[state, action])"
   ]
  },
  {
   "cell_type": "code",
   "execution_count": 23,
   "metadata": {},
   "outputs": [
    {
     "ename": "SyntaxError",
     "evalue": "expected 'except' or 'finally' block (2440802703.py, line 20)",
     "output_type": "error",
     "traceback": [
      "\u001b[1;36m  Cell \u001b[1;32mIn[23], line 20\u001b[1;36m\u001b[0m\n\u001b[1;33m    cooling_load = calculate_cooling_load(T_chwr.value, T_chws.value)\u001b[0m\n\u001b[1;37m    ^\u001b[0m\n\u001b[1;31mSyntaxError\u001b[0m\u001b[1;31m:\u001b[0m expected 'except' or 'finally' block\n"
     ]
    }
   ],
   "source": [
    "while True:\n",
    "    total_reward = 0 \n",
    "\n",
    "        \n",
    "        # Get next state\n",
    "    sm_stepf()\n",
    "    next_cooling_load = calculate_cooling_load(T_chwr.value, T_chws.value)\n",
    "    next_state = discretize_state(next_cooling_load, T_outdoor.value)\n",
    "\n",
    "        # Update Q-table\n",
    "    update_Q_table(state, action, reward, next_state)\n",
    "        \n",
    "        # Update variables for next iteration\n",
    "    state = next_state\n",
    "    total_reward += reward\n",
    "    total_rewards.append(total_reward)\n",
    "    \n",
    "        # Print episode stats\n",
    "    try:print(rf\"emeter={emeter[0].value,emeter[1].value,emeter[2].value}) (T_outdoor={T_outdoor.value}) (F_chw={F_chw.value}) (T_chws={T_chws.value}) (T_chwr={T_chwr.value}) (T_chws_set={T_chws_set.value} Total Reward = {total_reward}\", flush=True, file=__import__('sys').stderr)\n",
    "    except ooep.ems.NotReadyError: pass\n",
    "\n",
    "    except ooep.ems.NotReadyError: pass\n",
    "    \n",
    "\n",
    "# Testing and Evaluation\n",
    "# Run the trained agent in the simulation environment and collect performance metrics\n",
    "\n",
    "# Results Analysis\n",
    "# Analyze the performance of the Q-learning-based controller\n"
   ]
  }
 ],
 "metadata": {
  "kernelspec": {
   "display_name": "Python 3",
   "language": "python",
   "name": "python3"
  },
  "language_info": {
   "codemirror_mode": {
    "name": "ipython",
    "version": 3
   },
   "file_extension": ".py",
   "mimetype": "text/x-python",
   "name": "python",
   "nbconvert_exporter": "python",
   "pygments_lexer": "ipython3",
   "version": "3.12.2"
  }
 },
 "nbformat": 4,
 "nbformat_minor": 2
}
